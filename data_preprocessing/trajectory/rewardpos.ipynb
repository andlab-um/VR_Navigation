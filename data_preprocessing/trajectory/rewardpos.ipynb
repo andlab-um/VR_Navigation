{
 "cells": [
  {
   "cell_type": "code",
   "execution_count": 72,
   "metadata": {},
   "outputs": [],
   "source": [
    "import pandas as pd\n",
    "import numpy as np\n",
    "import os\n",
    "import matplotlib.pyplot as plt"
   ]
  },
  {
   "cell_type": "markdown",
   "metadata": {},
   "source": [
    "## To generate positions of reward cases and characters"
   ]
  },
  {
   "cell_type": "code",
   "execution_count": 73,
   "metadata": {},
   "outputs": [
    {
     "data": {
      "text/html": [
       "<div>\n",
       "<style scoped>\n",
       "    .dataframe tbody tr th:only-of-type {\n",
       "        vertical-align: middle;\n",
       "    }\n",
       "\n",
       "    .dataframe tbody tr th {\n",
       "        vertical-align: top;\n",
       "    }\n",
       "\n",
       "    .dataframe thead th {\n",
       "        text-align: right;\n",
       "    }\n",
       "</style>\n",
       "<table border=\"1\" class=\"dataframe\">\n",
       "  <thead>\n",
       "    <tr style=\"text-align: right;\">\n",
       "      <th></th>\n",
       "      <th>value</th>\n",
       "      <th>posx</th>\n",
       "      <th>posy</th>\n",
       "    </tr>\n",
       "  </thead>\n",
       "  <tbody>\n",
       "    <tr>\n",
       "      <th>0</th>\n",
       "      <td>Negative</td>\n",
       "      <td>76.0</td>\n",
       "      <td>15.1</td>\n",
       "    </tr>\n",
       "    <tr>\n",
       "      <th>1</th>\n",
       "      <td>Positive</td>\n",
       "      <td>15.3</td>\n",
       "      <td>-6.6</td>\n",
       "    </tr>\n",
       "  </tbody>\n",
       "</table>\n",
       "</div>"
      ],
      "text/plain": [
       "      value  posx  posy\n",
       "0  Negative  76.0  15.1\n",
       "1  Positive  15.3  -6.6"
      ]
     },
     "execution_count": 73,
     "metadata": {},
     "output_type": "execute_result"
    }
   ],
   "source": [
    "df = pd.read_csv('345/345_SpaceNavigation_14_RewardList.csv', header=None)\n",
    "# len == 1 没有遇到奖励或者惩罚的情况\n",
    "if len(df) != 1:\n",
    "    df.columns = ['value','posx','posz','posy','time']\n",
    "    df = df.dropna(subset=['time'])\n",
    "    df = df.loc[:,['value','posx','posy']]\n",
    "    df['posx'] = df['posx'].str.replace(\"(\", \"\").astype(float).round(decimals=4)\n",
    "    df['posy'] = df['posy'].str.replace(\")\", \"\").astype(float).round(decimals=4)\n",
    "else:\n",
    "    print('No Reward')\n",
    "df"
   ]
  },
  {
   "cell_type": "code",
   "execution_count": 74,
   "metadata": {},
   "outputs": [
    {
     "name": "stdout",
     "output_type": "stream",
     "text": [
      "['345_SocialNavigation_10_RewardList.csv', '345_SocialNavigation_11_RewardList.csv', '345_SocialNavigation_19_RewardList.csv', '345_SocialNavigation_20_RewardList.csv', '345_SocialNavigation_21_RewardList.csv', '345_SocialNavigation_22_RewardList.csv', '345_SocialNavigation_23_RewardList.csv', '345_SocialNavigation_31_RewardList.csv', '345_SocialNavigation_32_RewardList.csv', '345_SocialNavigation_33_RewardList.csv', '345_SocialNavigation_34_RewardList.csv', '345_SocialNavigation_35_RewardList.csv', '345_SocialNavigation_7_RewardList.csv', '345_SocialNavigation_8_RewardList.csv', '345_SocialNavigation_9_RewardList.csv', '345_SocialNavigation_Memory_12_RewardList.csv', '345_SocialNavigation_Memory_24_RewardList.csv', '345_SocialNavigation_Memory_36_RewardList.csv', '345_SpaceNavigation_13_RewardList.csv', '345_SpaceNavigation_14_RewardList.csv', '345_SpaceNavigation_15_RewardList.csv', '345_SpaceNavigation_16_RewardList.csv', '345_SpaceNavigation_17_RewardList.csv', '345_SpaceNavigation_1_RewardList.csv', '345_SpaceNavigation_25_RewardList.csv', '345_SpaceNavigation_26_RewardList.csv', '345_SpaceNavigation_27_RewardList.csv', '345_SpaceNavigation_28_RewardList.csv', '345_SpaceNavigation_29_RewardList.csv', '345_SpaceNavigation_2_RewardList.csv', '345_SpaceNavigation_3_RewardList.csv', '345_SpaceNavigation_4_RewardList.csv', '345_SpaceNavigation_5_RewardList.csv', '345_SpaceNavigation_Memory_18_RewardList.csv', '345_SpaceNavigation_Memory_30_RewardList.csv', '345_SpaceNavigation_Memory_6_RewardList.csv', '345_Train_0_RewardList.csv']\n"
     ]
    },
    {
     "name": "stderr",
     "output_type": "stream",
     "text": [
      "C:\\Users\\Jun\\AppData\\Local\\Temp\\ipykernel_32380\\2713330869.py:42: FutureWarning:\n",
      "\n",
      "The behavior of DataFrame concatenation with empty or all-NA entries is deprecated. In a future version, this will no longer exclude empty or all-NA columns when determining the result dtypes. To retain the old behavior, exclude the relevant entries before the concat operation.\n",
      "\n"
     ]
    },
    {
     "data": {
      "text/html": [
       "<div>\n",
       "<style scoped>\n",
       "    .dataframe tbody tr th:only-of-type {\n",
       "        vertical-align: middle;\n",
       "    }\n",
       "\n",
       "    .dataframe tbody tr th {\n",
       "        vertical-align: top;\n",
       "    }\n",
       "\n",
       "    .dataframe thead th {\n",
       "        text-align: right;\n",
       "    }\n",
       "</style>\n",
       "<table border=\"1\" class=\"dataframe\">\n",
       "  <thead>\n",
       "    <tr style=\"text-align: right;\">\n",
       "      <th></th>\n",
       "      <th>trial</th>\n",
       "      <th>block</th>\n",
       "      <th>type</th>\n",
       "      <th>value</th>\n",
       "      <th>posx</th>\n",
       "      <th>posy</th>\n",
       "    </tr>\n",
       "  </thead>\n",
       "  <tbody>\n",
       "    <tr>\n",
       "      <th>0</th>\n",
       "      <td>1</td>\n",
       "      <td>1</td>\n",
       "      <td>SpaceNavigation</td>\n",
       "      <td>Positive</td>\n",
       "      <td>15.3</td>\n",
       "      <td>-6.6</td>\n",
       "    </tr>\n",
       "    <tr>\n",
       "      <th>1</th>\n",
       "      <td>1</td>\n",
       "      <td>1</td>\n",
       "      <td>SpaceNavigation</td>\n",
       "      <td>Positive</td>\n",
       "      <td>45.8</td>\n",
       "      <td>28.5</td>\n",
       "    </tr>\n",
       "    <tr>\n",
       "      <th>2</th>\n",
       "      <td>1</td>\n",
       "      <td>1</td>\n",
       "      <td>SpaceNavigation</td>\n",
       "      <td>Negative</td>\n",
       "      <td>76.0</td>\n",
       "      <td>15.1</td>\n",
       "    </tr>\n",
       "    <tr>\n",
       "      <th>0</th>\n",
       "      <td>2</td>\n",
       "      <td>1</td>\n",
       "      <td>SpaceNavigation</td>\n",
       "      <td>Negative</td>\n",
       "      <td>75.6</td>\n",
       "      <td>-43.6</td>\n",
       "    </tr>\n",
       "    <tr>\n",
       "      <th>1</th>\n",
       "      <td>2</td>\n",
       "      <td>1</td>\n",
       "      <td>SpaceNavigation</td>\n",
       "      <td>Negative</td>\n",
       "      <td>76.0</td>\n",
       "      <td>15.1</td>\n",
       "    </tr>\n",
       "    <tr>\n",
       "      <th>...</th>\n",
       "      <td>...</td>\n",
       "      <td>...</td>\n",
       "      <td>...</td>\n",
       "      <td>...</td>\n",
       "      <td>...</td>\n",
       "      <td>...</td>\n",
       "    </tr>\n",
       "    <tr>\n",
       "      <th>1</th>\n",
       "      <td>34</td>\n",
       "      <td>6</td>\n",
       "      <td>SocialNavigation</td>\n",
       "      <td>Positive</td>\n",
       "      <td>46.1</td>\n",
       "      <td>28.3</td>\n",
       "    </tr>\n",
       "    <tr>\n",
       "      <th>2</th>\n",
       "      <td>34</td>\n",
       "      <td>6</td>\n",
       "      <td>SocialNavigation</td>\n",
       "      <td>Positive</td>\n",
       "      <td>-1.5</td>\n",
       "      <td>50.1</td>\n",
       "    </tr>\n",
       "    <tr>\n",
       "      <th>0</th>\n",
       "      <td>35</td>\n",
       "      <td>6</td>\n",
       "      <td>SocialNavigation</td>\n",
       "      <td>Positive</td>\n",
       "      <td>9.1</td>\n",
       "      <td>-1.2</td>\n",
       "    </tr>\n",
       "    <tr>\n",
       "      <th>1</th>\n",
       "      <td>35</td>\n",
       "      <td>6</td>\n",
       "      <td>SocialNavigation</td>\n",
       "      <td>Positive</td>\n",
       "      <td>46.1</td>\n",
       "      <td>28.3</td>\n",
       "    </tr>\n",
       "    <tr>\n",
       "      <th>2</th>\n",
       "      <td>35</td>\n",
       "      <td>6</td>\n",
       "      <td>SocialNavigation</td>\n",
       "      <td>Positive</td>\n",
       "      <td>-1.5</td>\n",
       "      <td>50.1</td>\n",
       "    </tr>\n",
       "  </tbody>\n",
       "</table>\n",
       "<p>90 rows × 6 columns</p>\n",
       "</div>"
      ],
      "text/plain": [
       "   trial block              type     value  posx  posy\n",
       "0      1     1   SpaceNavigation  Positive  15.3  -6.6\n",
       "1      1     1   SpaceNavigation  Positive  45.8  28.5\n",
       "2      1     1   SpaceNavigation  Negative  76.0  15.1\n",
       "0      2     1   SpaceNavigation  Negative  75.6 -43.6\n",
       "1      2     1   SpaceNavigation  Negative  76.0  15.1\n",
       "..   ...   ...               ...       ...   ...   ...\n",
       "1     34     6  SocialNavigation  Positive  46.1  28.3\n",
       "2     34     6  SocialNavigation  Positive  -1.5  50.1\n",
       "0     35     6  SocialNavigation  Positive   9.1  -1.2\n",
       "1     35     6  SocialNavigation  Positive  46.1  28.3\n",
       "2     35     6  SocialNavigation  Positive  -1.5  50.1\n",
       "\n",
       "[90 rows x 6 columns]"
      ]
     },
     "execution_count": 74,
     "metadata": {},
     "output_type": "execute_result"
    }
   ],
   "source": [
    "def get_interaction_data(sub_ID='345'):\n",
    "\n",
    "    rewardlist_csv = [item for item in os.listdir(str(sub_ID)) if item.endswith('RewardList.csv')]\n",
    "    print(rewardlist_csv)\n",
    "    stuck = []\n",
    "    df = pd.DataFrame(stuck, columns=['trial','block','type','value','posx','posy'])\n",
    "\n",
    "    # 横轴坐标 sub_ID trial trialname score\n",
    "    for item in rewardlist_csv:\n",
    "        if not 'Train' in item:\n",
    "            trialnum = int(item.split('_')[-2])\n",
    "            \n",
    "            trialtype = item.split('_')[1]\n",
    "            if 'Memory' in item:\n",
    "                trialtype += '_Memory'\n",
    "            file = os.path.join(str(sub_ID),item)\n",
    "            \n",
    "            # print(file)\n",
    "            data= pd.read_csv(file, header=None)\n",
    "\n",
    "            if len(data) == 1:\n",
    "                # no reward\n",
    "                continue\n",
    "            else:\n",
    "                    data.columns = ['value','posx','posz','posy','time']\n",
    "                    data = data.dropna(subset=['time'])\n",
    "                    data = data.loc[:,['value','posx','posy']]\n",
    "                    data['posx'] = data['posx'].str.replace(\"(\", \"\").astype(float).round(decimals=3)\n",
    "                    data['posy'] = data['posy'].str.replace(\")\", \"\").astype(float).round(decimals=3)\n",
    "\n",
    "                \n",
    "                    trial = item.split('_')[-2] # 格式： 347_SocialNavigation_11_RewardList.csv\n",
    "\n",
    "                    data['trial'] = trial\n",
    "                    if int(trial) > 36:\n",
    "                        block = 6\n",
    "                    else:\n",
    "                        block = (int(trial)-1) // 6 + 1\n",
    "                    data['block'] = block\n",
    "                    data['type'] = trialtype\n",
    "\n",
    "                    df = pd.concat([df,data])            \n",
    "\n",
    "    # df = df.sort_values(by='trial', ascending=True)\n",
    "    df = df.sort_values(by=['block','trial'], ascending=True)\n",
    "    return df\n",
    "get_interaction_data()"
   ]
  },
  {
   "cell_type": "code",
   "execution_count": 81,
   "metadata": {},
   "outputs": [
    {
     "name": "stdout",
     "output_type": "stream",
     "text": [
      "['301_SocialNavigation_10_RewardList.csv', '301_SocialNavigation_11_RewardList.csv', '301_SocialNavigation_19_RewardList.csv', '301_SocialNavigation_20_RewardList.csv', '301_SocialNavigation_21_RewardList.csv', '301_SocialNavigation_22_RewardList.csv', '301_SocialNavigation_23_RewardList.csv', '301_SocialNavigation_31_RewardList.csv', '301_SocialNavigation_32_RewardList.csv', '301_SocialNavigation_33_RewardList.csv', '301_SocialNavigation_34_RewardList.csv', '301_SocialNavigation_35_RewardList.csv', '301_SocialNavigation_7_RewardList.csv', '301_SocialNavigation_8_RewardList.csv', '301_SocialNavigation_9_RewardList.csv', '301_SocialNavigation_Memory_12_RewardList.csv', '301_SocialNavigation_Memory_24_RewardList.csv', '301_SocialNavigation_Memory_36_RewardList.csv', '301_SpaceNavigation_13_RewardList.csv', '301_SpaceNavigation_14_RewardList.csv', '301_SpaceNavigation_15_RewardList.csv', '301_SpaceNavigation_16_RewardList.csv', '301_SpaceNavigation_17_RewardList.csv', '301_SpaceNavigation_1_RewardList.csv', '301_SpaceNavigation_25_RewardList.csv', '301_SpaceNavigation_26_RewardList.csv', '301_SpaceNavigation_27_RewardList.csv', '301_SpaceNavigation_28_RewardList.csv', '301_SpaceNavigation_29_RewardList.csv', '301_SpaceNavigation_2_RewardList.csv', '301_SpaceNavigation_3_RewardList.csv', '301_SpaceNavigation_4_RewardList.csv', '301_SpaceNavigation_5_RewardList.csv', '301_SpaceNavigation_Memory_18_RewardList.csv', '301_SpaceNavigation_Memory_30_RewardList.csv', '301_SpaceNavigation_Memory_6_RewardList.csv', '301_Train_0_RewardList.csv']\n",
      "['302_SocialNavigation_10_RewardList.csv', '302_SocialNavigation_11_RewardList.csv', '302_SocialNavigation_19_RewardList.csv', '302_SocialNavigation_20_RewardList.csv', '302_SocialNavigation_21_RewardList.csv', '302_SocialNavigation_22_RewardList.csv', '302_SocialNavigation_23_RewardList.csv', '302_SocialNavigation_31_RewardList.csv', '302_SocialNavigation_32_RewardList.csv', '302_SocialNavigation_33_RewardList.csv', '302_SocialNavigation_34_RewardList.csv', '302_SocialNavigation_35_RewardList.csv', '302_SocialNavigation_7_RewardList.csv', '302_SocialNavigation_8_RewardList.csv', '302_SocialNavigation_Memory_12_RewardList.csv', '302_SocialNavigation_Memory_24_RewardList.csv', '302_SocialNavigation_Memory_36_RewardList.csv', '302_SpaceNavigation_13_RewardList.csv', '302_SpaceNavigation_14_RewardList.csv', '302_SpaceNavigation_15_RewardList.csv', '302_SpaceNavigation_16_RewardList.csv', '302_SpaceNavigation_17_RewardList.csv', '302_SpaceNavigation_1_RewardList.csv', '302_SpaceNavigation_25_RewardList.csv', '302_SpaceNavigation_26_RewardList.csv', '302_SpaceNavigation_27_RewardList.csv', '302_SpaceNavigation_28_RewardList.csv', '302_SpaceNavigation_29_RewardList.csv', '302_SpaceNavigation_2_RewardList.csv', '302_SpaceNavigation_3_RewardList.csv', '302_SpaceNavigation_4_RewardList.csv', '302_SpaceNavigation_5_RewardList.csv', '302_SpaceNavigation_Memory_18_RewardList.csv', '302_SpaceNavigation_Memory_30_RewardList.csv', '302_SpaceNavigation_Memory_6_RewardList.csv', '302_Train_0_RewardList.csv']\n"
     ]
    },
    {
     "name": "stderr",
     "output_type": "stream",
     "text": [
      "C:\\Users\\Jun\\AppData\\Local\\Temp\\ipykernel_32380\\2713330869.py:42: FutureWarning:\n",
      "\n",
      "The behavior of DataFrame concatenation with empty or all-NA entries is deprecated. In a future version, this will no longer exclude empty or all-NA columns when determining the result dtypes. To retain the old behavior, exclude the relevant entries before the concat operation.\n",
      "\n",
      "C:\\Users\\Jun\\AppData\\Local\\Temp\\ipykernel_32380\\2205572648.py:7: FutureWarning:\n",
      "\n",
      "The behavior of DataFrame concatenation with empty or all-NA entries is deprecated. In a future version, this will no longer exclude empty or all-NA columns when determining the result dtypes. To retain the old behavior, exclude the relevant entries before the concat operation.\n",
      "\n",
      "C:\\Users\\Jun\\AppData\\Local\\Temp\\ipykernel_32380\\2713330869.py:42: FutureWarning:\n",
      "\n",
      "The behavior of DataFrame concatenation with empty or all-NA entries is deprecated. In a future version, this will no longer exclude empty or all-NA columns when determining the result dtypes. To retain the old behavior, exclude the relevant entries before the concat operation.\n",
      "\n"
     ]
    },
    {
     "name": "stdout",
     "output_type": "stream",
     "text": [
      "['303_SocialNavigation_10_RewardList.csv', '303_SocialNavigation_11_RewardList.csv', '303_SocialNavigation_19_RewardList.csv', '303_SocialNavigation_20_RewardList.csv', '303_SocialNavigation_21_RewardList.csv', '303_SocialNavigation_22_RewardList.csv', '303_SocialNavigation_23_RewardList.csv', '303_SocialNavigation_31_RewardList.csv', '303_SocialNavigation_32_RewardList.csv', '303_SocialNavigation_33_RewardList.csv', '303_SocialNavigation_34_RewardList.csv', '303_SocialNavigation_35_RewardList.csv', '303_SocialNavigation_7_RewardList.csv', '303_SocialNavigation_8_RewardList.csv', '303_SocialNavigation_9_RewardList.csv', '303_SocialNavigation_Memory_12_RewardList.csv', '303_SocialNavigation_Memory_24_RewardList.csv', '303_SocialNavigation_Memory_36_RewardList.csv', '303_SpaceNavigation_13_RewardList.csv', '303_SpaceNavigation_14_RewardList.csv', '303_SpaceNavigation_15_RewardList.csv', '303_SpaceNavigation_16_RewardList.csv', '303_SpaceNavigation_17_RewardList.csv', '303_SpaceNavigation_1_RewardList.csv', '303_SpaceNavigation_25_RewardList.csv', '303_SpaceNavigation_26_RewardList.csv', '303_SpaceNavigation_27_RewardList.csv', '303_SpaceNavigation_28_RewardList.csv', '303_SpaceNavigation_29_RewardList.csv', '303_SpaceNavigation_2_RewardList.csv', '303_SpaceNavigation_3_RewardList.csv', '303_SpaceNavigation_4_RewardList.csv', '303_SpaceNavigation_5_RewardList.csv', '303_SpaceNavigation_Memory_18_RewardList.csv', '303_SpaceNavigation_Memory_30_RewardList.csv', '303_SpaceNavigation_Memory_6_RewardList.csv', '303_Train_0_RewardList.csv']\n",
      "['304_SocialNavigation_10_RewardList.csv', '304_SocialNavigation_11_RewardList.csv', '304_SocialNavigation_19_RewardList.csv', '304_SocialNavigation_20_RewardList.csv', '304_SocialNavigation_21_RewardList.csv', '304_SocialNavigation_22_RewardList.csv', '304_SocialNavigation_23_RewardList.csv', '304_SocialNavigation_31_RewardList.csv', '304_SocialNavigation_32_RewardList.csv', '304_SocialNavigation_33_RewardList.csv', '304_SocialNavigation_34_RewardList.csv', '304_SocialNavigation_35_RewardList.csv', '304_SocialNavigation_7_RewardList.csv', '304_SocialNavigation_8_RewardList.csv', '304_SocialNavigation_9_RewardList.csv', '304_SocialNavigation_Memory_12_RewardList.csv', '304_SocialNavigation_Memory_24_RewardList.csv', '304_SocialNavigation_Memory_36_RewardList.csv', '304_SpaceNavigation_13_RewardList.csv', '304_SpaceNavigation_14_RewardList.csv', '304_SpaceNavigation_15_RewardList.csv', '304_SpaceNavigation_16_RewardList.csv', '304_SpaceNavigation_17_RewardList.csv', '304_SpaceNavigation_1_RewardList.csv', '304_SpaceNavigation_25_RewardList.csv', '304_SpaceNavigation_26_RewardList.csv', '304_SpaceNavigation_27_RewardList.csv', '304_SpaceNavigation_28_RewardList.csv', '304_SpaceNavigation_29_RewardList.csv', '304_SpaceNavigation_2_RewardList.csv', '304_SpaceNavigation_3_RewardList.csv', '304_SpaceNavigation_4_RewardList.csv', '304_SpaceNavigation_5_RewardList.csv', '304_SpaceNavigation_Memory_18_RewardList.csv', '304_SpaceNavigation_Memory_30_RewardList.csv', '304_SpaceNavigation_Memory_6_RewardList.csv', '304_Train_0_RewardList.csv']\n"
     ]
    },
    {
     "name": "stderr",
     "output_type": "stream",
     "text": [
      "C:\\Users\\Jun\\AppData\\Local\\Temp\\ipykernel_32380\\2713330869.py:42: FutureWarning:\n",
      "\n",
      "The behavior of DataFrame concatenation with empty or all-NA entries is deprecated. In a future version, this will no longer exclude empty or all-NA columns when determining the result dtypes. To retain the old behavior, exclude the relevant entries before the concat operation.\n",
      "\n",
      "C:\\Users\\Jun\\AppData\\Local\\Temp\\ipykernel_32380\\2713330869.py:42: FutureWarning:\n",
      "\n",
      "The behavior of DataFrame concatenation with empty or all-NA entries is deprecated. In a future version, this will no longer exclude empty or all-NA columns when determining the result dtypes. To retain the old behavior, exclude the relevant entries before the concat operation.\n",
      "\n"
     ]
    },
    {
     "name": "stdout",
     "output_type": "stream",
     "text": [
      "['305_SocialNavigation_10_RewardList.csv', '305_SocialNavigation_11_RewardList.csv', '305_SocialNavigation_19_RewardList.csv', '305_SocialNavigation_20_RewardList.csv', '305_SocialNavigation_21_RewardList.csv', '305_SocialNavigation_22_RewardList.csv', '305_SocialNavigation_23_RewardList.csv', '305_SocialNavigation_31_RewardList.csv', '305_SocialNavigation_32_RewardList.csv', '305_SocialNavigation_33_RewardList.csv', '305_SocialNavigation_34_RewardList.csv', '305_SocialNavigation_35_RewardList.csv', '305_SocialNavigation_7_RewardList.csv', '305_SocialNavigation_8_RewardList.csv', '305_SocialNavigation_9_RewardList.csv', '305_SocialNavigation_Memory_12_RewardList.csv', '305_SocialNavigation_Memory_24_RewardList.csv', '305_SocialNavigation_Memory_36_RewardList.csv', '305_SpaceNavigation_13_RewardList.csv', '305_SpaceNavigation_14_RewardList.csv', '305_SpaceNavigation_15_RewardList.csv', '305_SpaceNavigation_16_RewardList.csv', '305_SpaceNavigation_17_RewardList.csv', '305_SpaceNavigation_1_RewardList.csv', '305_SpaceNavigation_25_RewardList.csv', '305_SpaceNavigation_26_RewardList.csv', '305_SpaceNavigation_27_RewardList.csv', '305_SpaceNavigation_28_RewardList.csv', '305_SpaceNavigation_29_RewardList.csv', '305_SpaceNavigation_2_RewardList.csv', '305_SpaceNavigation_3_RewardList.csv', '305_SpaceNavigation_4_RewardList.csv', '305_SpaceNavigation_5_RewardList.csv', '305_SpaceNavigation_Memory_18_RewardList.csv', '305_SpaceNavigation_Memory_30_RewardList.csv', '305_SpaceNavigation_Memory_6_RewardList.csv', '305_Train_0_RewardList.csv']\n",
      "['306_SocialNavigation_10_RewardList.csv', '306_SocialNavigation_11_RewardList.csv', '306_SocialNavigation_19_RewardList.csv', '306_SocialNavigation_20_RewardList.csv', '306_SocialNavigation_21_RewardList.csv', '306_SocialNavigation_22_RewardList.csv', '306_SocialNavigation_23_RewardList.csv', '306_SocialNavigation_31_RewardList.csv', '306_SocialNavigation_32_RewardList.csv', '306_SocialNavigation_33_RewardList.csv', '306_SocialNavigation_34_RewardList.csv', '306_SocialNavigation_35_RewardList.csv', '306_SocialNavigation_7_RewardList.csv', '306_SocialNavigation_8_RewardList.csv', '306_SocialNavigation_9_RewardList.csv', '306_SocialNavigation_Memory_12_RewardList.csv', '306_SocialNavigation_Memory_24_RewardList.csv', '306_SocialNavigation_Memory_36_RewardList.csv', '306_SpaceNavigation_13_RewardList.csv', '306_SpaceNavigation_14_RewardList.csv', '306_SpaceNavigation_15_RewardList.csv', '306_SpaceNavigation_16_RewardList.csv', '306_SpaceNavigation_17_RewardList.csv', '306_SpaceNavigation_1_RewardList.csv', '306_SpaceNavigation_25_RewardList.csv', '306_SpaceNavigation_26_RewardList.csv', '306_SpaceNavigation_27_RewardList.csv', '306_SpaceNavigation_28_RewardList.csv', '306_SpaceNavigation_29_RewardList.csv', '306_SpaceNavigation_2_RewardList.csv', '306_SpaceNavigation_3_RewardList.csv', '306_SpaceNavigation_4_RewardList.csv', '306_SpaceNavigation_5_RewardList.csv', '306_SpaceNavigation_Memory_18_RewardList.csv', '306_SpaceNavigation_Memory_30_RewardList.csv', '306_SpaceNavigation_Memory_6_RewardList.csv', '306_Train_0_RewardList.csv']\n"
     ]
    },
    {
     "name": "stderr",
     "output_type": "stream",
     "text": [
      "C:\\Users\\Jun\\AppData\\Local\\Temp\\ipykernel_32380\\2713330869.py:42: FutureWarning:\n",
      "\n",
      "The behavior of DataFrame concatenation with empty or all-NA entries is deprecated. In a future version, this will no longer exclude empty or all-NA columns when determining the result dtypes. To retain the old behavior, exclude the relevant entries before the concat operation.\n",
      "\n",
      "C:\\Users\\Jun\\AppData\\Local\\Temp\\ipykernel_32380\\2713330869.py:42: FutureWarning:\n",
      "\n",
      "The behavior of DataFrame concatenation with empty or all-NA entries is deprecated. In a future version, this will no longer exclude empty or all-NA columns when determining the result dtypes. To retain the old behavior, exclude the relevant entries before the concat operation.\n",
      "\n"
     ]
    },
    {
     "name": "stdout",
     "output_type": "stream",
     "text": [
      "['307_SocialNavigation_10_RewardList.csv', '307_SocialNavigation_11_RewardList.csv', '307_SocialNavigation_19_RewardList.csv', '307_SocialNavigation_20_RewardList.csv', '307_SocialNavigation_21_RewardList.csv', '307_SocialNavigation_22_RewardList.csv', '307_SocialNavigation_23_RewardList.csv', '307_SocialNavigation_31_RewardList.csv', '307_SocialNavigation_32_RewardList.csv', '307_SocialNavigation_33_RewardList.csv', '307_SocialNavigation_34_RewardList.csv', '307_SocialNavigation_35_RewardList.csv', '307_SocialNavigation_7_RewardList.csv', '307_SocialNavigation_8_RewardList.csv', '307_SocialNavigation_9_RewardList.csv', '307_SocialNavigation_Memory_12_RewardList.csv', '307_SocialNavigation_Memory_24_RewardList.csv', '307_SocialNavigation_Memory_36_RewardList.csv', '307_SpaceNavigation_13_RewardList.csv', '307_SpaceNavigation_14_RewardList.csv', '307_SpaceNavigation_15_RewardList.csv', '307_SpaceNavigation_16_RewardList.csv', '307_SpaceNavigation_17_RewardList.csv', '307_SpaceNavigation_1_RewardList.csv', '307_SpaceNavigation_25_RewardList.csv', '307_SpaceNavigation_26_RewardList.csv', '307_SpaceNavigation_27_RewardList.csv', '307_SpaceNavigation_28_RewardList.csv', '307_SpaceNavigation_29_RewardList.csv', '307_SpaceNavigation_2_RewardList.csv', '307_SpaceNavigation_3_RewardList.csv', '307_SpaceNavigation_4_RewardList.csv', '307_SpaceNavigation_5_RewardList.csv', '307_SpaceNavigation_Memory_18_RewardList.csv', '307_SpaceNavigation_Memory_30_RewardList.csv', '307_SpaceNavigation_Memory_6_RewardList.csv', '307_Train_0_RewardList.csv']\n",
      "['308_SocialNavigation_10_RewardList.csv', '308_SocialNavigation_11_RewardList.csv', '308_SocialNavigation_19_RewardList.csv', '308_SocialNavigation_20_RewardList.csv', '308_SocialNavigation_21_RewardList.csv', '308_SocialNavigation_22_RewardList.csv', '308_SocialNavigation_23_RewardList.csv', '308_SocialNavigation_31_RewardList.csv', '308_SocialNavigation_32_RewardList.csv', '308_SocialNavigation_33_RewardList.csv', '308_SocialNavigation_34_RewardList.csv', '308_SocialNavigation_35_RewardList.csv', '308_SocialNavigation_7_RewardList.csv', '308_SocialNavigation_8_RewardList.csv', '308_SocialNavigation_9_RewardList.csv', '308_SocialNavigation_Memory_12_RewardList.csv', '308_SocialNavigation_Memory_24_RewardList.csv', '308_SocialNavigation_Memory_36_RewardList.csv', '308_SpaceNavigation_13_RewardList.csv', '308_SpaceNavigation_14_RewardList.csv', '308_SpaceNavigation_15_RewardList.csv', '308_SpaceNavigation_16_RewardList.csv', '308_SpaceNavigation_17_RewardList.csv', '308_SpaceNavigation_1_RewardList.csv', '308_SpaceNavigation_25_RewardList.csv', '308_SpaceNavigation_26_RewardList.csv', '308_SpaceNavigation_27_RewardList.csv', '308_SpaceNavigation_28_RewardList.csv', '308_SpaceNavigation_29_RewardList.csv', '308_SpaceNavigation_2_RewardList.csv', '308_SpaceNavigation_3_RewardList.csv', '308_SpaceNavigation_4_RewardList.csv', '308_SpaceNavigation_5_RewardList.csv', '308_SpaceNavigation_Memory_18_RewardList.csv', '308_SpaceNavigation_Memory_30_RewardList.csv', '308_SpaceNavigation_Memory_6_RewardList.csv', '308_Train_0_RewardList.csv']\n"
     ]
    },
    {
     "name": "stderr",
     "output_type": "stream",
     "text": [
      "C:\\Users\\Jun\\AppData\\Local\\Temp\\ipykernel_32380\\2713330869.py:42: FutureWarning:\n",
      "\n",
      "The behavior of DataFrame concatenation with empty or all-NA entries is deprecated. In a future version, this will no longer exclude empty or all-NA columns when determining the result dtypes. To retain the old behavior, exclude the relevant entries before the concat operation.\n",
      "\n",
      "C:\\Users\\Jun\\AppData\\Local\\Temp\\ipykernel_32380\\2713330869.py:42: FutureWarning:\n",
      "\n",
      "The behavior of DataFrame concatenation with empty or all-NA entries is deprecated. In a future version, this will no longer exclude empty or all-NA columns when determining the result dtypes. To retain the old behavior, exclude the relevant entries before the concat operation.\n",
      "\n"
     ]
    },
    {
     "name": "stdout",
     "output_type": "stream",
     "text": [
      "['309_SocialNavigation_10_RewardList.csv', '309_SocialNavigation_11_RewardList.csv', '309_SocialNavigation_19_RewardList.csv', '309_SocialNavigation_20_RewardList.csv', '309_SocialNavigation_21_RewardList.csv', '309_SocialNavigation_22_RewardList.csv', '309_SocialNavigation_23_RewardList.csv', '309_SocialNavigation_31_RewardList.csv', '309_SocialNavigation_32_RewardList.csv', '309_SocialNavigation_33_RewardList.csv', '309_SocialNavigation_34_RewardList.csv', '309_SocialNavigation_35_RewardList.csv', '309_SocialNavigation_7_RewardList.csv', '309_SocialNavigation_8_RewardList.csv', '309_SocialNavigation_9_RewardList.csv', '309_SocialNavigation_Memory_12_RewardList.csv', '309_SocialNavigation_Memory_24_RewardList.csv', '309_SocialNavigation_Memory_36_RewardList.csv', '309_SpaceNavigation_13_RewardList.csv', '309_SpaceNavigation_14_RewardList.csv', '309_SpaceNavigation_15_RewardList.csv', '309_SpaceNavigation_16_RewardList.csv', '309_SpaceNavigation_17_RewardList.csv', '309_SpaceNavigation_1_RewardList.csv', '309_SpaceNavigation_25_RewardList.csv', '309_SpaceNavigation_26_RewardList.csv', '309_SpaceNavigation_27_RewardList.csv', '309_SpaceNavigation_28_RewardList.csv', '309_SpaceNavigation_29_RewardList.csv', '309_SpaceNavigation_2_RewardList.csv', '309_SpaceNavigation_3_RewardList.csv', '309_SpaceNavigation_4_RewardList.csv', '309_SpaceNavigation_5_RewardList.csv', '309_SpaceNavigation_Memory_18_RewardList.csv', '309_SpaceNavigation_Memory_30_RewardList.csv', '309_SpaceNavigation_Memory_6_RewardList.csv', '309_Train_0_RewardList.csv']\n",
      "['310_SocialNavigation_10_RewardList.csv', '310_SocialNavigation_11_RewardList.csv', '310_SocialNavigation_19_RewardList.csv', '310_SocialNavigation_20_RewardList.csv', '310_SocialNavigation_21_RewardList.csv', '310_SocialNavigation_22_RewardList.csv', '310_SocialNavigation_23_RewardList.csv', '310_SocialNavigation_31_RewardList.csv', '310_SocialNavigation_32_RewardList.csv', '310_SocialNavigation_33_RewardList.csv', '310_SocialNavigation_34_RewardList.csv', '310_SocialNavigation_35_RewardList.csv', '310_SocialNavigation_7_RewardList.csv', '310_SocialNavigation_8_RewardList.csv', '310_SocialNavigation_9_RewardList.csv', '310_SocialNavigation_Memory_12_RewardList.csv', '310_SocialNavigation_Memory_24_RewardList.csv', '310_SocialNavigation_Memory_36_RewardList.csv', '310_SpaceNavigation_13_RewardList.csv', '310_SpaceNavigation_14_RewardList.csv', '310_SpaceNavigation_15_RewardList.csv', '310_SpaceNavigation_16_RewardList.csv', '310_SpaceNavigation_17_RewardList.csv', '310_SpaceNavigation_1_RewardList.csv', '310_SpaceNavigation_25_RewardList.csv', '310_SpaceNavigation_26_RewardList.csv', '310_SpaceNavigation_27_RewardList.csv', '310_SpaceNavigation_28_RewardList.csv', '310_SpaceNavigation_29_RewardList.csv', '310_SpaceNavigation_2_RewardList.csv', '310_SpaceNavigation_3_RewardList.csv', '310_SpaceNavigation_4_RewardList.csv', '310_SpaceNavigation_5_RewardList.csv', '310_SpaceNavigation_Memory_18_RewardList.csv', '310_SpaceNavigation_Memory_30_RewardList.csv', '310_SpaceNavigation_Memory_6_RewardList.csv', '310_Train_0_RewardList.csv']\n"
     ]
    },
    {
     "name": "stderr",
     "output_type": "stream",
     "text": [
      "C:\\Users\\Jun\\AppData\\Local\\Temp\\ipykernel_32380\\2713330869.py:42: FutureWarning:\n",
      "\n",
      "The behavior of DataFrame concatenation with empty or all-NA entries is deprecated. In a future version, this will no longer exclude empty or all-NA columns when determining the result dtypes. To retain the old behavior, exclude the relevant entries before the concat operation.\n",
      "\n",
      "C:\\Users\\Jun\\AppData\\Local\\Temp\\ipykernel_32380\\2713330869.py:42: FutureWarning:\n",
      "\n",
      "The behavior of DataFrame concatenation with empty or all-NA entries is deprecated. In a future version, this will no longer exclude empty or all-NA columns when determining the result dtypes. To retain the old behavior, exclude the relevant entries before the concat operation.\n",
      "\n"
     ]
    },
    {
     "name": "stdout",
     "output_type": "stream",
     "text": [
      "['311_SocialNavigation_10_RewardList.csv', '311_SocialNavigation_11_RewardList.csv', '311_SocialNavigation_19_RewardList.csv', '311_SocialNavigation_20_RewardList.csv', '311_SocialNavigation_21_RewardList.csv', '311_SocialNavigation_22_RewardList.csv', '311_SocialNavigation_23_RewardList.csv', '311_SocialNavigation_31_RewardList.csv', '311_SocialNavigation_32_RewardList.csv', '311_SocialNavigation_33_RewardList.csv', '311_SocialNavigation_34_RewardList.csv', '311_SocialNavigation_35_RewardList.csv', '311_SocialNavigation_7_RewardList.csv', '311_SocialNavigation_8_RewardList.csv', '311_SocialNavigation_9_RewardList.csv', '311_SocialNavigation_Memory_12_RewardList.csv', '311_SocialNavigation_Memory_24_RewardList.csv', '311_SocialNavigation_Memory_36_RewardList.csv', '311_SpaceNavigation_13_RewardList.csv', '311_SpaceNavigation_14_RewardList.csv', '311_SpaceNavigation_15_RewardList.csv', '311_SpaceNavigation_16_RewardList.csv', '311_SpaceNavigation_17_RewardList.csv', '311_SpaceNavigation_1_RewardList.csv', '311_SpaceNavigation_25_RewardList.csv', '311_SpaceNavigation_26_RewardList.csv', '311_SpaceNavigation_27_RewardList.csv', '311_SpaceNavigation_28_RewardList.csv', '311_SpaceNavigation_29_RewardList.csv', '311_SpaceNavigation_2_RewardList.csv', '311_SpaceNavigation_3_RewardList.csv', '311_SpaceNavigation_4_RewardList.csv', '311_SpaceNavigation_5_RewardList.csv', '311_SpaceNavigation_Memory_18_RewardList.csv', '311_SpaceNavigation_Memory_30_RewardList.csv', '311_SpaceNavigation_Memory_6_RewardList.csv', '311_Train_0_RewardList.csv']\n"
     ]
    },
    {
     "name": "stderr",
     "output_type": "stream",
     "text": [
      "C:\\Users\\Jun\\AppData\\Local\\Temp\\ipykernel_32380\\2713330869.py:42: FutureWarning:\n",
      "\n",
      "The behavior of DataFrame concatenation with empty or all-NA entries is deprecated. In a future version, this will no longer exclude empty or all-NA columns when determining the result dtypes. To retain the old behavior, exclude the relevant entries before the concat operation.\n",
      "\n"
     ]
    },
    {
     "name": "stdout",
     "output_type": "stream",
     "text": [
      "['312_SocialNavigation_10_RewardList.csv', '312_SocialNavigation_11_RewardList.csv', '312_SocialNavigation_19_RewardList.csv', '312_SocialNavigation_20_RewardList.csv', '312_SocialNavigation_21_RewardList.csv', '312_SocialNavigation_22_RewardList.csv', '312_SocialNavigation_23_RewardList.csv', '312_SocialNavigation_31_RewardList.csv', '312_SocialNavigation_32_RewardList.csv', '312_SocialNavigation_33_RewardList.csv', '312_SocialNavigation_34_RewardList.csv', '312_SocialNavigation_35_RewardList.csv', '312_SocialNavigation_7_RewardList.csv', '312_SocialNavigation_8_RewardList.csv', '312_SocialNavigation_9_RewardList.csv', '312_SocialNavigation_Memory_12_RewardList.csv', '312_SocialNavigation_Memory_24_RewardList.csv', '312_SocialNavigation_Memory_36_RewardList.csv', '312_SpaceNavigation_13_RewardList.csv', '312_SpaceNavigation_14_RewardList.csv', '312_SpaceNavigation_15_RewardList.csv', '312_SpaceNavigation_16_RewardList.csv', '312_SpaceNavigation_17_RewardList.csv', '312_SpaceNavigation_1_RewardList.csv', '312_SpaceNavigation_25_RewardList.csv', '312_SpaceNavigation_26_RewardList.csv', '312_SpaceNavigation_27_RewardList.csv', '312_SpaceNavigation_28_RewardList.csv', '312_SpaceNavigation_29_RewardList.csv', '312_SpaceNavigation_2_RewardList.csv', '312_SpaceNavigation_3_RewardList.csv', '312_SpaceNavigation_4_RewardList.csv', '312_SpaceNavigation_5_RewardList.csv', '312_SpaceNavigation_Memory_18_RewardList.csv', '312_SpaceNavigation_Memory_30_RewardList.csv', '312_SpaceNavigation_Memory_6_RewardList.csv', '312_Train_0_RewardList.csv']\n"
     ]
    },
    {
     "name": "stderr",
     "output_type": "stream",
     "text": [
      "C:\\Users\\Jun\\AppData\\Local\\Temp\\ipykernel_32380\\2713330869.py:42: FutureWarning:\n",
      "\n",
      "The behavior of DataFrame concatenation with empty or all-NA entries is deprecated. In a future version, this will no longer exclude empty or all-NA columns when determining the result dtypes. To retain the old behavior, exclude the relevant entries before the concat operation.\n",
      "\n"
     ]
    },
    {
     "name": "stdout",
     "output_type": "stream",
     "text": [
      "['313_SocialNavigation_10_RewardList.csv', '313_SocialNavigation_11_RewardList.csv', '313_SocialNavigation_19_RewardList.csv', '313_SocialNavigation_20_RewardList.csv', '313_SocialNavigation_21_RewardList.csv', '313_SocialNavigation_22_RewardList.csv', '313_SocialNavigation_23_RewardList.csv', '313_SocialNavigation_31_RewardList.csv', '313_SocialNavigation_32_RewardList.csv', '313_SocialNavigation_33_RewardList.csv', '313_SocialNavigation_34_RewardList.csv', '313_SocialNavigation_35_RewardList.csv', '313_SocialNavigation_7_RewardList.csv', '313_SocialNavigation_8_RewardList.csv', '313_SocialNavigation_9_RewardList.csv', '313_SocialNavigation_Memory_12_RewardList.csv', '313_SocialNavigation_Memory_24_RewardList.csv', '313_SocialNavigation_Memory_36_RewardList.csv', '313_SpaceNavigation_13_RewardList.csv', '313_SpaceNavigation_14_RewardList.csv', '313_SpaceNavigation_15_RewardList.csv', '313_SpaceNavigation_16_RewardList.csv', '313_SpaceNavigation_17_RewardList.csv', '313_SpaceNavigation_1_RewardList.csv', '313_SpaceNavigation_25_RewardList.csv', '313_SpaceNavigation_26_RewardList.csv', '313_SpaceNavigation_27_RewardList.csv', '313_SpaceNavigation_28_RewardList.csv', '313_SpaceNavigation_29_RewardList.csv', '313_SpaceNavigation_2_RewardList.csv', '313_SpaceNavigation_3_RewardList.csv', '313_SpaceNavigation_4_RewardList.csv', '313_SpaceNavigation_5_RewardList.csv', '313_SpaceNavigation_Memory_18_RewardList.csv', '313_SpaceNavigation_Memory_30_RewardList.csv', '313_SpaceNavigation_Memory_6_RewardList.csv', '313_Train_0_RewardList.csv']\n"
     ]
    },
    {
     "name": "stderr",
     "output_type": "stream",
     "text": [
      "C:\\Users\\Jun\\AppData\\Local\\Temp\\ipykernel_32380\\2713330869.py:42: FutureWarning:\n",
      "\n",
      "The behavior of DataFrame concatenation with empty or all-NA entries is deprecated. In a future version, this will no longer exclude empty or all-NA columns when determining the result dtypes. To retain the old behavior, exclude the relevant entries before the concat operation.\n",
      "\n"
     ]
    },
    {
     "name": "stdout",
     "output_type": "stream",
     "text": [
      "['314_SocialNavigation_10_RewardList.csv', '314_SocialNavigation_11_RewardList.csv', '314_SocialNavigation_19_RewardList.csv', '314_SocialNavigation_20_RewardList.csv', '314_SocialNavigation_21_RewardList.csv', '314_SocialNavigation_22_RewardList.csv', '314_SocialNavigation_23_RewardList.csv', '314_SocialNavigation_31_RewardList.csv', '314_SocialNavigation_32_RewardList.csv', '314_SocialNavigation_33_RewardList.csv', '314_SocialNavigation_34_RewardList.csv', '314_SocialNavigation_35_RewardList.csv', '314_SocialNavigation_7_RewardList.csv', '314_SocialNavigation_8_RewardList.csv', '314_SocialNavigation_9_RewardList.csv', '314_SocialNavigation_Memory_12_RewardList.csv', '314_SocialNavigation_Memory_24_RewardList.csv', '314_SocialNavigation_Memory_36_RewardList.csv', '314_SpaceNavigation_13_RewardList.csv', '314_SpaceNavigation_14_RewardList.csv', '314_SpaceNavigation_15_RewardList.csv', '314_SpaceNavigation_16_RewardList.csv', '314_SpaceNavigation_17_RewardList.csv', '314_SpaceNavigation_1_RewardList.csv', '314_SpaceNavigation_25_RewardList.csv', '314_SpaceNavigation_26_RewardList.csv', '314_SpaceNavigation_27_RewardList.csv', '314_SpaceNavigation_28_RewardList.csv', '314_SpaceNavigation_29_RewardList.csv', '314_SpaceNavigation_2_RewardList.csv', '314_SpaceNavigation_3_RewardList.csv', '314_SpaceNavigation_4_RewardList.csv', '314_SpaceNavigation_5_RewardList.csv', '314_SpaceNavigation_Memory_18_RewardList.csv', '314_SpaceNavigation_Memory_30_RewardList.csv', '314_SpaceNavigation_Memory_6_RewardList.csv', '314_Train_0_RewardList.csv']\n"
     ]
    },
    {
     "name": "stderr",
     "output_type": "stream",
     "text": [
      "C:\\Users\\Jun\\AppData\\Local\\Temp\\ipykernel_32380\\2713330869.py:42: FutureWarning:\n",
      "\n",
      "The behavior of DataFrame concatenation with empty or all-NA entries is deprecated. In a future version, this will no longer exclude empty or all-NA columns when determining the result dtypes. To retain the old behavior, exclude the relevant entries before the concat operation.\n",
      "\n"
     ]
    },
    {
     "name": "stdout",
     "output_type": "stream",
     "text": [
      "['315_SocialNavigation_10_RewardList.csv', '315_SocialNavigation_11_RewardList.csv', '315_SocialNavigation_19_RewardList.csv', '315_SocialNavigation_20_RewardList.csv', '315_SocialNavigation_21_RewardList.csv', '315_SocialNavigation_22_RewardList.csv', '315_SocialNavigation_23_RewardList.csv', '315_SocialNavigation_31_RewardList.csv', '315_SocialNavigation_32_RewardList.csv', '315_SocialNavigation_33_RewardList.csv', '315_SocialNavigation_34_RewardList.csv', '315_SocialNavigation_35_RewardList.csv', '315_SocialNavigation_7_RewardList.csv', '315_SocialNavigation_8_RewardList.csv', '315_SocialNavigation_9_RewardList.csv', '315_SocialNavigation_Memory_12_RewardList.csv', '315_SocialNavigation_Memory_24_RewardList.csv', '315_SocialNavigation_Memory_36_RewardList.csv', '315_SpaceNavigation_13_RewardList.csv', '315_SpaceNavigation_14_RewardList.csv', '315_SpaceNavigation_15_RewardList.csv', '315_SpaceNavigation_16_RewardList.csv', '315_SpaceNavigation_17_RewardList.csv', '315_SpaceNavigation_1_RewardList.csv', '315_SpaceNavigation_25_RewardList.csv', '315_SpaceNavigation_26_RewardList.csv', '315_SpaceNavigation_27_RewardList.csv', '315_SpaceNavigation_28_RewardList.csv', '315_SpaceNavigation_29_RewardList.csv', '315_SpaceNavigation_2_RewardList.csv', '315_SpaceNavigation_3_RewardList.csv', '315_SpaceNavigation_4_RewardList.csv', '315_SpaceNavigation_5_RewardList.csv', '315_SpaceNavigation_Memory_18_RewardList.csv', '315_SpaceNavigation_Memory_30_RewardList.csv', '315_SpaceNavigation_Memory_6_RewardList.csv', '315_Train_0_RewardList.csv']\n"
     ]
    },
    {
     "name": "stderr",
     "output_type": "stream",
     "text": [
      "C:\\Users\\Jun\\AppData\\Local\\Temp\\ipykernel_32380\\2713330869.py:42: FutureWarning:\n",
      "\n",
      "The behavior of DataFrame concatenation with empty or all-NA entries is deprecated. In a future version, this will no longer exclude empty or all-NA columns when determining the result dtypes. To retain the old behavior, exclude the relevant entries before the concat operation.\n",
      "\n"
     ]
    },
    {
     "name": "stdout",
     "output_type": "stream",
     "text": [
      "['316_SocialNavigation_10_RewardList.csv', '316_SocialNavigation_11_RewardList.csv', '316_SocialNavigation_19_RewardList.csv', '316_SocialNavigation_20_RewardList.csv', '316_SocialNavigation_21_RewardList.csv', '316_SocialNavigation_22_RewardList.csv', '316_SocialNavigation_23_RewardList.csv', '316_SocialNavigation_31_RewardList.csv', '316_SocialNavigation_32_RewardList.csv', '316_SocialNavigation_33_RewardList.csv', '316_SocialNavigation_34_RewardList.csv', '316_SocialNavigation_35_RewardList.csv', '316_SocialNavigation_7_RewardList.csv', '316_SocialNavigation_8_RewardList.csv', '316_SocialNavigation_9_RewardList.csv', '316_SocialNavigation_Memory_12_RewardList.csv', '316_SocialNavigation_Memory_24_RewardList.csv', '316_SocialNavigation_Memory_36_RewardList.csv', '316_SpaceNavigation_13_RewardList.csv', '316_SpaceNavigation_14_RewardList.csv', '316_SpaceNavigation_15_RewardList.csv', '316_SpaceNavigation_16_RewardList.csv', '316_SpaceNavigation_17_RewardList.csv', '316_SpaceNavigation_1_RewardList.csv', '316_SpaceNavigation_25_RewardList.csv', '316_SpaceNavigation_26_RewardList.csv', '316_SpaceNavigation_27_RewardList.csv', '316_SpaceNavigation_28_RewardList.csv', '316_SpaceNavigation_29_RewardList.csv', '316_SpaceNavigation_2_RewardList.csv', '316_SpaceNavigation_3_RewardList.csv', '316_SpaceNavigation_4_RewardList.csv', '316_SpaceNavigation_5_RewardList.csv', '316_SpaceNavigation_Memory_18_RewardList.csv', '316_SpaceNavigation_Memory_30_RewardList.csv', '316_SpaceNavigation_Memory_6_RewardList.csv', '316_Train_0_RewardList.csv']\n"
     ]
    },
    {
     "name": "stderr",
     "output_type": "stream",
     "text": [
      "C:\\Users\\Jun\\AppData\\Local\\Temp\\ipykernel_32380\\2713330869.py:42: FutureWarning:\n",
      "\n",
      "The behavior of DataFrame concatenation with empty or all-NA entries is deprecated. In a future version, this will no longer exclude empty or all-NA columns when determining the result dtypes. To retain the old behavior, exclude the relevant entries before the concat operation.\n",
      "\n"
     ]
    },
    {
     "name": "stdout",
     "output_type": "stream",
     "text": [
      "['317_SocialNavigation_10_RewardList.csv', '317_SocialNavigation_11_RewardList.csv', '317_SocialNavigation_19_RewardList.csv', '317_SocialNavigation_20_RewardList.csv', '317_SocialNavigation_21_RewardList.csv', '317_SocialNavigation_22_RewardList.csv', '317_SocialNavigation_23_RewardList.csv', '317_SocialNavigation_31_RewardList.csv', '317_SocialNavigation_32_RewardList.csv', '317_SocialNavigation_33_RewardList.csv', '317_SocialNavigation_34_RewardList.csv', '317_SocialNavigation_35_RewardList.csv', '317_SocialNavigation_7_RewardList.csv', '317_SocialNavigation_8_RewardList.csv', '317_SocialNavigation_9_RewardList.csv', '317_SocialNavigation_Memory_12_RewardList.csv', '317_SocialNavigation_Memory_24_RewardList.csv', '317_SocialNavigation_Memory_36_RewardList.csv', '317_SpaceNavigation_13_RewardList.csv', '317_SpaceNavigation_14_RewardList.csv', '317_SpaceNavigation_15_RewardList.csv', '317_SpaceNavigation_16_RewardList.csv', '317_SpaceNavigation_17_RewardList.csv', '317_SpaceNavigation_1_RewardList.csv', '317_SpaceNavigation_25_RewardList.csv', '317_SpaceNavigation_26_RewardList.csv', '317_SpaceNavigation_27_RewardList.csv', '317_SpaceNavigation_28_RewardList.csv', '317_SpaceNavigation_29_RewardList.csv', '317_SpaceNavigation_2_RewardList.csv', '317_SpaceNavigation_3_RewardList.csv', '317_SpaceNavigation_4_RewardList.csv', '317_SpaceNavigation_5_RewardList.csv', '317_SpaceNavigation_Memory_18_RewardList.csv', '317_SpaceNavigation_Memory_30_RewardList.csv', '317_SpaceNavigation_Memory_6_RewardList.csv', '317_Train_0_RewardList.csv']\n"
     ]
    },
    {
     "name": "stderr",
     "output_type": "stream",
     "text": [
      "C:\\Users\\Jun\\AppData\\Local\\Temp\\ipykernel_32380\\2713330869.py:42: FutureWarning:\n",
      "\n",
      "The behavior of DataFrame concatenation with empty or all-NA entries is deprecated. In a future version, this will no longer exclude empty or all-NA columns when determining the result dtypes. To retain the old behavior, exclude the relevant entries before the concat operation.\n",
      "\n"
     ]
    },
    {
     "name": "stdout",
     "output_type": "stream",
     "text": [
      "['318_SocialNavigation_10_RewardList.csv', '318_SocialNavigation_11_RewardList.csv', '318_SocialNavigation_19_RewardList.csv', '318_SocialNavigation_20_RewardList.csv', '318_SocialNavigation_21_RewardList.csv', '318_SocialNavigation_22_RewardList.csv', '318_SocialNavigation_23_RewardList.csv', '318_SocialNavigation_31_RewardList.csv', '318_SocialNavigation_32_RewardList.csv', '318_SocialNavigation_33_RewardList.csv', '318_SocialNavigation_34_RewardList.csv', '318_SocialNavigation_35_RewardList.csv', '318_SocialNavigation_7_RewardList.csv', '318_SocialNavigation_8_RewardList.csv', '318_SocialNavigation_9_RewardList.csv', '318_SocialNavigation_Memory_12_RewardList.csv', '318_SocialNavigation_Memory_24_RewardList.csv', '318_SocialNavigation_Memory_36_RewardList.csv', '318_SpaceNavigation_13_RewardList.csv', '318_SpaceNavigation_14_RewardList.csv', '318_SpaceNavigation_15_RewardList.csv', '318_SpaceNavigation_16_RewardList.csv', '318_SpaceNavigation_17_RewardList.csv', '318_SpaceNavigation_1_RewardList.csv', '318_SpaceNavigation_25_RewardList.csv', '318_SpaceNavigation_26_RewardList.csv', '318_SpaceNavigation_27_RewardList.csv', '318_SpaceNavigation_28_RewardList.csv', '318_SpaceNavigation_29_RewardList.csv', '318_SpaceNavigation_2_RewardList.csv', '318_SpaceNavigation_3_RewardList.csv', '318_SpaceNavigation_4_RewardList.csv', '318_SpaceNavigation_5_RewardList.csv', '318_SpaceNavigation_Memory_18_RewardList.csv', '318_SpaceNavigation_Memory_30_RewardList.csv', '318_SpaceNavigation_Memory_6_RewardList.csv', '318_Train_0_RewardList.csv']\n"
     ]
    },
    {
     "name": "stderr",
     "output_type": "stream",
     "text": [
      "C:\\Users\\Jun\\AppData\\Local\\Temp\\ipykernel_32380\\2713330869.py:42: FutureWarning:\n",
      "\n",
      "The behavior of DataFrame concatenation with empty or all-NA entries is deprecated. In a future version, this will no longer exclude empty or all-NA columns when determining the result dtypes. To retain the old behavior, exclude the relevant entries before the concat operation.\n",
      "\n"
     ]
    },
    {
     "name": "stdout",
     "output_type": "stream",
     "text": [
      "['319_SocialNavigation_10_RewardList.csv', '319_SocialNavigation_11_RewardList.csv', '319_SocialNavigation_19_RewardList.csv', '319_SocialNavigation_20_RewardList.csv', '319_SocialNavigation_21_RewardList.csv', '319_SocialNavigation_22_RewardList.csv', '319_SocialNavigation_23_RewardList.csv', '319_SocialNavigation_31_RewardList.csv', '319_SocialNavigation_32_RewardList.csv', '319_SocialNavigation_33_RewardList.csv', '319_SocialNavigation_34_RewardList.csv', '319_SocialNavigation_35_RewardList.csv', '319_SocialNavigation_7_RewardList.csv', '319_SocialNavigation_8_RewardList.csv', '319_SocialNavigation_9_RewardList.csv', '319_SocialNavigation_Memory_12_RewardList.csv', '319_SocialNavigation_Memory_24_RewardList.csv', '319_SocialNavigation_Memory_36_RewardList.csv', '319_SpaceNavigation_13_RewardList.csv', '319_SpaceNavigation_14_RewardList.csv', '319_SpaceNavigation_15_RewardList.csv', '319_SpaceNavigation_16_RewardList.csv', '319_SpaceNavigation_17_RewardList.csv', '319_SpaceNavigation_1_RewardList.csv', '319_SpaceNavigation_25_RewardList.csv', '319_SpaceNavigation_26_RewardList.csv', '319_SpaceNavigation_27_RewardList.csv', '319_SpaceNavigation_28_RewardList.csv', '319_SpaceNavigation_29_RewardList.csv', '319_SpaceNavigation_2_RewardList.csv', '319_SpaceNavigation_3_RewardList.csv', '319_SpaceNavigation_4_RewardList.csv', '319_SpaceNavigation_5_RewardList.csv', '319_SpaceNavigation_Memory_18_RewardList.csv', '319_SpaceNavigation_Memory_30_RewardList.csv', '319_SpaceNavigation_Memory_6_RewardList.csv', '319_Train_0_RewardList.csv']\n"
     ]
    },
    {
     "name": "stderr",
     "output_type": "stream",
     "text": [
      "C:\\Users\\Jun\\AppData\\Local\\Temp\\ipykernel_32380\\2713330869.py:42: FutureWarning:\n",
      "\n",
      "The behavior of DataFrame concatenation with empty or all-NA entries is deprecated. In a future version, this will no longer exclude empty or all-NA columns when determining the result dtypes. To retain the old behavior, exclude the relevant entries before the concat operation.\n",
      "\n"
     ]
    },
    {
     "name": "stdout",
     "output_type": "stream",
     "text": [
      "['320_SocialNavigation_10_RewardList.csv', '320_SocialNavigation_11_RewardList.csv', '320_SocialNavigation_19_RewardList.csv', '320_SocialNavigation_20_RewardList.csv', '320_SocialNavigation_21_RewardList.csv', '320_SocialNavigation_22_RewardList.csv', '320_SocialNavigation_23_RewardList.csv', '320_SocialNavigation_31_RewardList.csv', '320_SocialNavigation_32_RewardList.csv', '320_SocialNavigation_33_RewardList.csv', '320_SocialNavigation_34_RewardList.csv', '320_SocialNavigation_35_RewardList.csv', '320_SocialNavigation_7_RewardList.csv', '320_SocialNavigation_8_RewardList.csv', '320_SocialNavigation_9_RewardList.csv', '320_SocialNavigation_Memory_12_RewardList.csv', '320_SocialNavigation_Memory_24_RewardList.csv', '320_SocialNavigation_Memory_36_RewardList.csv', '320_SpaceNavigation_13_RewardList.csv', '320_SpaceNavigation_14_RewardList.csv', '320_SpaceNavigation_15_RewardList.csv', '320_SpaceNavigation_16_RewardList.csv', '320_SpaceNavigation_17_RewardList.csv', '320_SpaceNavigation_1_RewardList.csv', '320_SpaceNavigation_25_RewardList.csv', '320_SpaceNavigation_26_RewardList.csv', '320_SpaceNavigation_27_RewardList.csv', '320_SpaceNavigation_28_RewardList.csv', '320_SpaceNavigation_29_RewardList.csv', '320_SpaceNavigation_2_RewardList.csv', '320_SpaceNavigation_3_RewardList.csv', '320_SpaceNavigation_4_RewardList.csv', '320_SpaceNavigation_5_RewardList.csv', '320_SpaceNavigation_Memory_18_RewardList.csv', '320_SpaceNavigation_Memory_30_RewardList.csv', '320_SpaceNavigation_Memory_6_RewardList.csv', '320_Train_0_RewardList.csv']\n"
     ]
    },
    {
     "name": "stderr",
     "output_type": "stream",
     "text": [
      "C:\\Users\\Jun\\AppData\\Local\\Temp\\ipykernel_32380\\2713330869.py:42: FutureWarning:\n",
      "\n",
      "The behavior of DataFrame concatenation with empty or all-NA entries is deprecated. In a future version, this will no longer exclude empty or all-NA columns when determining the result dtypes. To retain the old behavior, exclude the relevant entries before the concat operation.\n",
      "\n"
     ]
    },
    {
     "name": "stdout",
     "output_type": "stream",
     "text": [
      "['321_SocialNavigation_10_RewardList.csv', '321_SocialNavigation_11_RewardList.csv', '321_SocialNavigation_19_RewardList.csv', '321_SocialNavigation_20_RewardList.csv', '321_SocialNavigation_21_RewardList.csv', '321_SocialNavigation_22_RewardList.csv', '321_SocialNavigation_23_RewardList.csv', '321_SocialNavigation_31_RewardList.csv', '321_SocialNavigation_32_RewardList.csv', '321_SocialNavigation_33_RewardList.csv', '321_SocialNavigation_34_RewardList.csv', '321_SocialNavigation_35_RewardList.csv', '321_SocialNavigation_7_RewardList.csv', '321_SocialNavigation_8_RewardList.csv', '321_SocialNavigation_9_RewardList.csv', '321_SocialNavigation_Memory_12_RewardList.csv', '321_SocialNavigation_Memory_24_RewardList.csv', '321_SocialNavigation_Memory_36_RewardList.csv', '321_SpaceNavigation_13_RewardList.csv', '321_SpaceNavigation_14_RewardList.csv', '321_SpaceNavigation_15_RewardList.csv', '321_SpaceNavigation_16_RewardList.csv', '321_SpaceNavigation_17_RewardList.csv', '321_SpaceNavigation_1_RewardList.csv', '321_SpaceNavigation_25_RewardList.csv', '321_SpaceNavigation_26_RewardList.csv', '321_SpaceNavigation_27_RewardList.csv', '321_SpaceNavigation_28_RewardList.csv', '321_SpaceNavigation_29_RewardList.csv', '321_SpaceNavigation_2_RewardList.csv', '321_SpaceNavigation_3_RewardList.csv', '321_SpaceNavigation_4_RewardList.csv', '321_SpaceNavigation_5_RewardList.csv', '321_SpaceNavigation_Memory_18_RewardList.csv', '321_SpaceNavigation_Memory_30_RewardList.csv', '321_SpaceNavigation_Memory_6_RewardList.csv', '321_Train_0_RewardList.csv']\n"
     ]
    },
    {
     "name": "stderr",
     "output_type": "stream",
     "text": [
      "C:\\Users\\Jun\\AppData\\Local\\Temp\\ipykernel_32380\\2713330869.py:42: FutureWarning:\n",
      "\n",
      "The behavior of DataFrame concatenation with empty or all-NA entries is deprecated. In a future version, this will no longer exclude empty or all-NA columns when determining the result dtypes. To retain the old behavior, exclude the relevant entries before the concat operation.\n",
      "\n"
     ]
    },
    {
     "name": "stdout",
     "output_type": "stream",
     "text": [
      "['322_SocialNavigation_10_RewardList.csv', '322_SocialNavigation_11_RewardList.csv', '322_SocialNavigation_19_RewardList.csv', '322_SocialNavigation_20_RewardList.csv', '322_SocialNavigation_21_RewardList.csv', '322_SocialNavigation_22_RewardList.csv', '322_SocialNavigation_23_RewardList.csv', '322_SocialNavigation_31_RewardList.csv', '322_SocialNavigation_32_RewardList.csv', '322_SocialNavigation_33_RewardList.csv', '322_SocialNavigation_34_RewardList.csv', '322_SocialNavigation_35_RewardList.csv', '322_SocialNavigation_7_RewardList.csv', '322_SocialNavigation_8_RewardList.csv', '322_SocialNavigation_9_RewardList.csv', '322_SocialNavigation_Memory_12_RewardList.csv', '322_SocialNavigation_Memory_24_RewardList.csv', '322_SocialNavigation_Memory_36_RewardList.csv', '322_SpaceNavigation_13_RewardList.csv', '322_SpaceNavigation_14_RewardList.csv', '322_SpaceNavigation_15_RewardList.csv', '322_SpaceNavigation_16_RewardList.csv', '322_SpaceNavigation_17_RewardList.csv', '322_SpaceNavigation_1_RewardList.csv', '322_SpaceNavigation_25_RewardList.csv', '322_SpaceNavigation_26_RewardList.csv', '322_SpaceNavigation_27_RewardList.csv', '322_SpaceNavigation_28_RewardList.csv', '322_SpaceNavigation_29_RewardList.csv', '322_SpaceNavigation_2_RewardList.csv', '322_SpaceNavigation_3_RewardList.csv', '322_SpaceNavigation_4_RewardList.csv', '322_SpaceNavigation_5_RewardList.csv', '322_SpaceNavigation_Memory_18_RewardList.csv', '322_SpaceNavigation_Memory_30_RewardList.csv', '322_SpaceNavigation_Memory_6_RewardList.csv', '322_Train_0_RewardList.csv']\n"
     ]
    },
    {
     "name": "stderr",
     "output_type": "stream",
     "text": [
      "C:\\Users\\Jun\\AppData\\Local\\Temp\\ipykernel_32380\\2713330869.py:42: FutureWarning:\n",
      "\n",
      "The behavior of DataFrame concatenation with empty or all-NA entries is deprecated. In a future version, this will no longer exclude empty or all-NA columns when determining the result dtypes. To retain the old behavior, exclude the relevant entries before the concat operation.\n",
      "\n"
     ]
    },
    {
     "name": "stdout",
     "output_type": "stream",
     "text": [
      "['323_SocialNavigation_10_RewardList.csv', '323_SocialNavigation_11_RewardList.csv', '323_SocialNavigation_19_RewardList.csv', '323_SocialNavigation_20_RewardList.csv', '323_SocialNavigation_21_RewardList.csv', '323_SocialNavigation_22_RewardList.csv', '323_SocialNavigation_23_RewardList.csv', '323_SocialNavigation_31_RewardList.csv', '323_SocialNavigation_32_RewardList.csv', '323_SocialNavigation_33_RewardList.csv', '323_SocialNavigation_34_RewardList.csv', '323_SocialNavigation_35_RewardList.csv', '323_SocialNavigation_7_RewardList.csv', '323_SocialNavigation_8_RewardList.csv', '323_SocialNavigation_9_RewardList.csv', '323_SocialNavigation_Memory_12_RewardList.csv', '323_SocialNavigation_Memory_24_RewardList.csv', '323_SocialNavigation_Memory_36_RewardList.csv', '323_SpaceNavigation_13_RewardList.csv', '323_SpaceNavigation_14_RewardList.csv', '323_SpaceNavigation_15_RewardList.csv', '323_SpaceNavigation_16_RewardList.csv', '323_SpaceNavigation_17_RewardList.csv', '323_SpaceNavigation_1_RewardList.csv', '323_SpaceNavigation_25_RewardList.csv', '323_SpaceNavigation_26_RewardList.csv', '323_SpaceNavigation_27_RewardList.csv', '323_SpaceNavigation_28_RewardList.csv', '323_SpaceNavigation_29_RewardList.csv', '323_SpaceNavigation_2_RewardList.csv', '323_SpaceNavigation_3_RewardList.csv', '323_SpaceNavigation_4_RewardList.csv', '323_SpaceNavigation_5_RewardList.csv', '323_SpaceNavigation_Memory_18_RewardList.csv', '323_SpaceNavigation_Memory_30_RewardList.csv', '323_SpaceNavigation_Memory_6_RewardList.csv', '323_Train_0_RewardList.csv']\n"
     ]
    },
    {
     "name": "stderr",
     "output_type": "stream",
     "text": [
      "C:\\Users\\Jun\\AppData\\Local\\Temp\\ipykernel_32380\\2713330869.py:42: FutureWarning:\n",
      "\n",
      "The behavior of DataFrame concatenation with empty or all-NA entries is deprecated. In a future version, this will no longer exclude empty or all-NA columns when determining the result dtypes. To retain the old behavior, exclude the relevant entries before the concat operation.\n",
      "\n"
     ]
    },
    {
     "name": "stdout",
     "output_type": "stream",
     "text": [
      "['324_SocialNavigation_10_RewardList.csv', '324_SocialNavigation_11_RewardList.csv', '324_SocialNavigation_19_RewardList.csv', '324_SocialNavigation_20_RewardList.csv', '324_SocialNavigation_21_RewardList.csv', '324_SocialNavigation_22_RewardList.csv', '324_SocialNavigation_23_RewardList.csv', '324_SocialNavigation_31_RewardList.csv', '324_SocialNavigation_32_RewardList.csv', '324_SocialNavigation_33_RewardList.csv', '324_SocialNavigation_34_RewardList.csv', '324_SocialNavigation_35_RewardList.csv', '324_SocialNavigation_7_RewardList.csv', '324_SocialNavigation_8_RewardList.csv', '324_SocialNavigation_9_RewardList.csv', '324_SocialNavigation_Memory_12_RewardList.csv', '324_SocialNavigation_Memory_24_RewardList.csv', '324_SocialNavigation_Memory_36_RewardList.csv', '324_SpaceNavigation_13_RewardList.csv', '324_SpaceNavigation_14_RewardList.csv', '324_SpaceNavigation_15_RewardList.csv', '324_SpaceNavigation_16_RewardList.csv', '324_SpaceNavigation_17_RewardList.csv', '324_SpaceNavigation_1_RewardList.csv', '324_SpaceNavigation_25_RewardList.csv', '324_SpaceNavigation_26_RewardList.csv', '324_SpaceNavigation_27_RewardList.csv', '324_SpaceNavigation_28_RewardList.csv', '324_SpaceNavigation_29_RewardList.csv', '324_SpaceNavigation_2_RewardList.csv', '324_SpaceNavigation_3_RewardList.csv', '324_SpaceNavigation_4_RewardList.csv', '324_SpaceNavigation_5_RewardList.csv', '324_SpaceNavigation_Memory_18_RewardList.csv', '324_SpaceNavigation_Memory_30_RewardList.csv', '324_SpaceNavigation_Memory_6_RewardList.csv', '324_Train_0_RewardList.csv']\n"
     ]
    },
    {
     "name": "stderr",
     "output_type": "stream",
     "text": [
      "C:\\Users\\Jun\\AppData\\Local\\Temp\\ipykernel_32380\\2713330869.py:42: FutureWarning:\n",
      "\n",
      "The behavior of DataFrame concatenation with empty or all-NA entries is deprecated. In a future version, this will no longer exclude empty or all-NA columns when determining the result dtypes. To retain the old behavior, exclude the relevant entries before the concat operation.\n",
      "\n"
     ]
    },
    {
     "name": "stdout",
     "output_type": "stream",
     "text": [
      "['325_SocialNavigation_10_RewardList.csv', '325_SocialNavigation_11_RewardList.csv', '325_SocialNavigation_19_RewardList.csv', '325_SocialNavigation_20_RewardList.csv', '325_SocialNavigation_21_RewardList.csv', '325_SocialNavigation_22_RewardList.csv', '325_SocialNavigation_23_RewardList.csv', '325_SocialNavigation_31_RewardList.csv', '325_SocialNavigation_32_RewardList.csv', '325_SocialNavigation_33_RewardList.csv', '325_SocialNavigation_34_RewardList.csv', '325_SocialNavigation_35_RewardList.csv', '325_SocialNavigation_7_RewardList.csv', '325_SocialNavigation_8_RewardList.csv', '325_SocialNavigation_9_RewardList.csv', '325_SocialNavigation_Memory_12_RewardList.csv', '325_SocialNavigation_Memory_24_RewardList.csv', '325_SocialNavigation_Memory_36_RewardList.csv', '325_SpaceNavigation_13_RewardList.csv', '325_SpaceNavigation_14_RewardList.csv', '325_SpaceNavigation_15_RewardList.csv', '325_SpaceNavigation_16_RewardList.csv', '325_SpaceNavigation_17_RewardList.csv', '325_SpaceNavigation_1_RewardList.csv', '325_SpaceNavigation_25_RewardList.csv', '325_SpaceNavigation_26_RewardList.csv', '325_SpaceNavigation_27_RewardList.csv', '325_SpaceNavigation_28_RewardList.csv', '325_SpaceNavigation_29_RewardList.csv', '325_SpaceNavigation_2_RewardList.csv', '325_SpaceNavigation_3_RewardList.csv', '325_SpaceNavigation_4_RewardList.csv', '325_SpaceNavigation_5_RewardList.csv', '325_SpaceNavigation_Memory_18_RewardList.csv', '325_SpaceNavigation_Memory_30_RewardList.csv', '325_SpaceNavigation_Memory_6_RewardList.csv', '325_Train_0_RewardList.csv']\n"
     ]
    },
    {
     "name": "stderr",
     "output_type": "stream",
     "text": [
      "C:\\Users\\Jun\\AppData\\Local\\Temp\\ipykernel_32380\\2713330869.py:42: FutureWarning:\n",
      "\n",
      "The behavior of DataFrame concatenation with empty or all-NA entries is deprecated. In a future version, this will no longer exclude empty or all-NA columns when determining the result dtypes. To retain the old behavior, exclude the relevant entries before the concat operation.\n",
      "\n"
     ]
    },
    {
     "name": "stdout",
     "output_type": "stream",
     "text": [
      "['326_SocialNavigation_10_RewardList.csv', '326_SocialNavigation_11_RewardList.csv', '326_SocialNavigation_19_RewardList.csv', '326_SocialNavigation_20_RewardList.csv', '326_SocialNavigation_21_RewardList.csv', '326_SocialNavigation_22_RewardList.csv', '326_SocialNavigation_23_RewardList.csv', '326_SocialNavigation_31_RewardList.csv', '326_SocialNavigation_32_RewardList.csv', '326_SocialNavigation_33_RewardList.csv', '326_SocialNavigation_34_RewardList.csv', '326_SocialNavigation_35_RewardList.csv', '326_SocialNavigation_7_RewardList.csv', '326_SocialNavigation_8_RewardList.csv', '326_SocialNavigation_9_RewardList.csv', '326_SocialNavigation_Memory_12_RewardList.csv', '326_SocialNavigation_Memory_24_RewardList.csv', '326_SocialNavigation_Memory_36_RewardList.csv', '326_SpaceNavigation_13_RewardList.csv', '326_SpaceNavigation_14_RewardList.csv', '326_SpaceNavigation_15_RewardList.csv', '326_SpaceNavigation_16_RewardList.csv', '326_SpaceNavigation_17_RewardList.csv', '326_SpaceNavigation_1_RewardList.csv', '326_SpaceNavigation_25_RewardList.csv', '326_SpaceNavigation_26_RewardList.csv', '326_SpaceNavigation_27_RewardList.csv', '326_SpaceNavigation_28_RewardList.csv', '326_SpaceNavigation_29_RewardList.csv', '326_SpaceNavigation_2_RewardList.csv', '326_SpaceNavigation_3_RewardList.csv', '326_SpaceNavigation_4_RewardList.csv', '326_SpaceNavigation_5_RewardList.csv', '326_SpaceNavigation_Memory_18_RewardList.csv', '326_SpaceNavigation_Memory_30_RewardList.csv', '326_SpaceNavigation_Memory_6_RewardList.csv', '326_Train_0_RewardList.csv']\n"
     ]
    },
    {
     "name": "stderr",
     "output_type": "stream",
     "text": [
      "C:\\Users\\Jun\\AppData\\Local\\Temp\\ipykernel_32380\\2713330869.py:42: FutureWarning:\n",
      "\n",
      "The behavior of DataFrame concatenation with empty or all-NA entries is deprecated. In a future version, this will no longer exclude empty or all-NA columns when determining the result dtypes. To retain the old behavior, exclude the relevant entries before the concat operation.\n",
      "\n"
     ]
    },
    {
     "name": "stdout",
     "output_type": "stream",
     "text": [
      "['327_SocialNavigation_10_RewardList.csv', '327_SocialNavigation_11_RewardList.csv', '327_SocialNavigation_19_RewardList.csv', '327_SocialNavigation_20_RewardList.csv', '327_SocialNavigation_21_RewardList.csv', '327_SocialNavigation_22_RewardList.csv', '327_SocialNavigation_23_RewardList.csv', '327_SocialNavigation_31_RewardList.csv', '327_SocialNavigation_32_RewardList.csv', '327_SocialNavigation_33_RewardList.csv', '327_SocialNavigation_34_RewardList.csv', '327_SocialNavigation_35_RewardList.csv', '327_SocialNavigation_7_RewardList.csv', '327_SocialNavigation_8_RewardList.csv', '327_SocialNavigation_9_RewardList.csv', '327_SocialNavigation_Memory_12_RewardList.csv', '327_SocialNavigation_Memory_24_RewardList.csv', '327_SocialNavigation_Memory_36_RewardList.csv', '327_SpaceNavigation_13_RewardList.csv', '327_SpaceNavigation_14_RewardList.csv', '327_SpaceNavigation_15_RewardList.csv', '327_SpaceNavigation_16_RewardList.csv', '327_SpaceNavigation_17_RewardList.csv', '327_SpaceNavigation_1_RewardList.csv', '327_SpaceNavigation_25_RewardList.csv', '327_SpaceNavigation_26_RewardList.csv', '327_SpaceNavigation_27_RewardList.csv', '327_SpaceNavigation_28_RewardList.csv', '327_SpaceNavigation_29_RewardList.csv', '327_SpaceNavigation_2_RewardList.csv', '327_SpaceNavigation_3_RewardList.csv', '327_SpaceNavigation_4_RewardList.csv', '327_SpaceNavigation_5_RewardList.csv', '327_SpaceNavigation_Memory_18_RewardList.csv', '327_SpaceNavigation_Memory_30_RewardList.csv', '327_SpaceNavigation_Memory_6_RewardList.csv', '327_Train_0_RewardList.csv']\n"
     ]
    },
    {
     "name": "stderr",
     "output_type": "stream",
     "text": [
      "C:\\Users\\Jun\\AppData\\Local\\Temp\\ipykernel_32380\\2713330869.py:42: FutureWarning:\n",
      "\n",
      "The behavior of DataFrame concatenation with empty or all-NA entries is deprecated. In a future version, this will no longer exclude empty or all-NA columns when determining the result dtypes. To retain the old behavior, exclude the relevant entries before the concat operation.\n",
      "\n"
     ]
    },
    {
     "name": "stdout",
     "output_type": "stream",
     "text": [
      "['328_SocialNavigation_10_RewardList.csv', '328_SocialNavigation_11_RewardList.csv', '328_SocialNavigation_19_RewardList.csv', '328_SocialNavigation_20_RewardList.csv', '328_SocialNavigation_21_RewardList.csv', '328_SocialNavigation_22_RewardList.csv', '328_SocialNavigation_23_RewardList.csv', '328_SocialNavigation_31_RewardList.csv', '328_SocialNavigation_32_RewardList.csv', '328_SocialNavigation_33_RewardList.csv', '328_SocialNavigation_34_RewardList.csv', '328_SocialNavigation_35_RewardList.csv', '328_SocialNavigation_7_RewardList.csv', '328_SocialNavigation_8_RewardList.csv', '328_SocialNavigation_9_RewardList.csv', '328_SocialNavigation_Memory_12_RewardList.csv', '328_SocialNavigation_Memory_24_RewardList.csv', '328_SocialNavigation_Memory_36_RewardList.csv', '328_SpaceNavigation_13_RewardList.csv', '328_SpaceNavigation_14_RewardList.csv', '328_SpaceNavigation_15_RewardList.csv', '328_SpaceNavigation_16_RewardList.csv', '328_SpaceNavigation_17_RewardList.csv', '328_SpaceNavigation_1_RewardList.csv', '328_SpaceNavigation_25_RewardList.csv', '328_SpaceNavigation_26_RewardList.csv', '328_SpaceNavigation_27_RewardList.csv', '328_SpaceNavigation_28_RewardList.csv', '328_SpaceNavigation_29_RewardList.csv', '328_SpaceNavigation_2_RewardList.csv', '328_SpaceNavigation_3_RewardList.csv', '328_SpaceNavigation_4_RewardList.csv', '328_SpaceNavigation_5_RewardList.csv', '328_SpaceNavigation_Memory_18_RewardList.csv', '328_SpaceNavigation_Memory_30_RewardList.csv', '328_SpaceNavigation_Memory_6_RewardList.csv', '328_Train_0_RewardList.csv']\n"
     ]
    },
    {
     "name": "stderr",
     "output_type": "stream",
     "text": [
      "C:\\Users\\Jun\\AppData\\Local\\Temp\\ipykernel_32380\\2713330869.py:42: FutureWarning:\n",
      "\n",
      "The behavior of DataFrame concatenation with empty or all-NA entries is deprecated. In a future version, this will no longer exclude empty or all-NA columns when determining the result dtypes. To retain the old behavior, exclude the relevant entries before the concat operation.\n",
      "\n"
     ]
    },
    {
     "name": "stdout",
     "output_type": "stream",
     "text": [
      "['329_SocialNavigation_10_RewardList.csv', '329_SocialNavigation_11_RewardList.csv', '329_SocialNavigation_19_RewardList.csv', '329_SocialNavigation_20_RewardList.csv', '329_SocialNavigation_21_RewardList.csv', '329_SocialNavigation_22_RewardList.csv', '329_SocialNavigation_23_RewardList.csv', '329_SocialNavigation_31_RewardList.csv', '329_SocialNavigation_32_RewardList.csv', '329_SocialNavigation_33_RewardList.csv', '329_SocialNavigation_34_RewardList.csv', '329_SocialNavigation_35_RewardList.csv', '329_SocialNavigation_7_RewardList.csv', '329_SocialNavigation_8_RewardList.csv', '329_SocialNavigation_9_RewardList.csv', '329_SocialNavigation_Memory_12_RewardList.csv', '329_SocialNavigation_Memory_24_RewardList.csv', '329_SocialNavigation_Memory_36_RewardList.csv', '329_SpaceNavigation_13_RewardList.csv', '329_SpaceNavigation_14_RewardList.csv', '329_SpaceNavigation_15_RewardList.csv', '329_SpaceNavigation_16_RewardList.csv', '329_SpaceNavigation_17_RewardList.csv', '329_SpaceNavigation_1_RewardList.csv', '329_SpaceNavigation_25_RewardList.csv', '329_SpaceNavigation_26_RewardList.csv', '329_SpaceNavigation_27_RewardList.csv', '329_SpaceNavigation_28_RewardList.csv', '329_SpaceNavigation_29_RewardList.csv', '329_SpaceNavigation_2_RewardList.csv', '329_SpaceNavigation_3_RewardList.csv', '329_SpaceNavigation_4_RewardList.csv', '329_SpaceNavigation_5_RewardList.csv', '329_SpaceNavigation_Memory_18_RewardList.csv', '329_SpaceNavigation_Memory_30_RewardList.csv', '329_SpaceNavigation_Memory_6_RewardList.csv', '329_Train_0_RewardList.csv']\n"
     ]
    },
    {
     "name": "stderr",
     "output_type": "stream",
     "text": [
      "C:\\Users\\Jun\\AppData\\Local\\Temp\\ipykernel_32380\\2713330869.py:42: FutureWarning:\n",
      "\n",
      "The behavior of DataFrame concatenation with empty or all-NA entries is deprecated. In a future version, this will no longer exclude empty or all-NA columns when determining the result dtypes. To retain the old behavior, exclude the relevant entries before the concat operation.\n",
      "\n"
     ]
    },
    {
     "name": "stdout",
     "output_type": "stream",
     "text": [
      "['330_SocialNavigation_10_RewardList.csv', '330_SocialNavigation_11_RewardList.csv', '330_SocialNavigation_19_RewardList.csv', '330_SocialNavigation_20_RewardList.csv', '330_SocialNavigation_21_RewardList.csv', '330_SocialNavigation_22_RewardList.csv', '330_SocialNavigation_23_RewardList.csv', '330_SocialNavigation_31_RewardList.csv', '330_SocialNavigation_32_RewardList.csv', '330_SocialNavigation_33_RewardList.csv', '330_SocialNavigation_34_RewardList.csv', '330_SocialNavigation_35_RewardList.csv', '330_SocialNavigation_7_RewardList.csv', '330_SocialNavigation_8_RewardList.csv', '330_SocialNavigation_9_RewardList.csv', '330_SocialNavigation_Memory_12_RewardList.csv', '330_SocialNavigation_Memory_24_RewardList.csv', '330_SocialNavigation_Memory_36_RewardList.csv', '330_SpaceNavigation_13_RewardList.csv', '330_SpaceNavigation_14_RewardList.csv', '330_SpaceNavigation_15_RewardList.csv', '330_SpaceNavigation_16_RewardList.csv', '330_SpaceNavigation_17_RewardList.csv', '330_SpaceNavigation_1_RewardList.csv', '330_SpaceNavigation_25_RewardList.csv', '330_SpaceNavigation_26_RewardList.csv', '330_SpaceNavigation_27_RewardList.csv', '330_SpaceNavigation_28_RewardList.csv', '330_SpaceNavigation_29_RewardList.csv', '330_SpaceNavigation_2_RewardList.csv', '330_SpaceNavigation_3_RewardList.csv', '330_SpaceNavigation_4_RewardList.csv', '330_SpaceNavigation_5_RewardList.csv', '330_SpaceNavigation_Memory_18_RewardList.csv', '330_SpaceNavigation_Memory_30_RewardList.csv', '330_SpaceNavigation_Memory_6_RewardList.csv', '330_Train_0_RewardList.csv']\n"
     ]
    },
    {
     "name": "stderr",
     "output_type": "stream",
     "text": [
      "C:\\Users\\Jun\\AppData\\Local\\Temp\\ipykernel_32380\\2713330869.py:42: FutureWarning:\n",
      "\n",
      "The behavior of DataFrame concatenation with empty or all-NA entries is deprecated. In a future version, this will no longer exclude empty or all-NA columns when determining the result dtypes. To retain the old behavior, exclude the relevant entries before the concat operation.\n",
      "\n"
     ]
    },
    {
     "name": "stdout",
     "output_type": "stream",
     "text": [
      "['331_SocialNavigation_10_RewardList.csv', '331_SocialNavigation_11_RewardList.csv', '331_SocialNavigation_19_RewardList.csv', '331_SocialNavigation_20_RewardList.csv', '331_SocialNavigation_21_RewardList.csv', '331_SocialNavigation_22_RewardList.csv', '331_SocialNavigation_23_RewardList.csv', '331_SocialNavigation_31_RewardList.csv', '331_SocialNavigation_32_RewardList.csv', '331_SocialNavigation_33_RewardList.csv', '331_SocialNavigation_34_RewardList.csv', '331_SocialNavigation_35_RewardList.csv', '331_SocialNavigation_7_RewardList.csv', '331_SocialNavigation_8_RewardList.csv', '331_SocialNavigation_9_RewardList.csv', '331_SocialNavigation_Memory_12_RewardList.csv', '331_SocialNavigation_Memory_24_RewardList.csv', '331_SocialNavigation_Memory_36_RewardList.csv', '331_SpaceNavigation_13_RewardList.csv', '331_SpaceNavigation_14_RewardList.csv', '331_SpaceNavigation_15_RewardList.csv', '331_SpaceNavigation_16_RewardList.csv', '331_SpaceNavigation_17_RewardList.csv', '331_SpaceNavigation_1_RewardList.csv', '331_SpaceNavigation_25_RewardList.csv', '331_SpaceNavigation_26_RewardList.csv', '331_SpaceNavigation_27_RewardList.csv', '331_SpaceNavigation_28_RewardList.csv', '331_SpaceNavigation_29_RewardList.csv', '331_SpaceNavigation_2_RewardList.csv', '331_SpaceNavigation_3_RewardList.csv', '331_SpaceNavigation_4_RewardList.csv', '331_SpaceNavigation_5_RewardList.csv', '331_SpaceNavigation_Memory_18_RewardList.csv', '331_SpaceNavigation_Memory_30_RewardList.csv', '331_SpaceNavigation_Memory_6_RewardList.csv', '331_Train_0_RewardList.csv']\n"
     ]
    },
    {
     "name": "stderr",
     "output_type": "stream",
     "text": [
      "C:\\Users\\Jun\\AppData\\Local\\Temp\\ipykernel_32380\\2713330869.py:42: FutureWarning:\n",
      "\n",
      "The behavior of DataFrame concatenation with empty or all-NA entries is deprecated. In a future version, this will no longer exclude empty or all-NA columns when determining the result dtypes. To retain the old behavior, exclude the relevant entries before the concat operation.\n",
      "\n"
     ]
    },
    {
     "name": "stdout",
     "output_type": "stream",
     "text": [
      "['332_SocialNavigation_10_RewardList.csv', '332_SocialNavigation_11_RewardList.csv', '332_SocialNavigation_19_RewardList.csv', '332_SocialNavigation_20_RewardList.csv', '332_SocialNavigation_21_RewardList.csv', '332_SocialNavigation_22_RewardList.csv', '332_SocialNavigation_23_RewardList.csv', '332_SocialNavigation_31_RewardList.csv', '332_SocialNavigation_32_RewardList.csv', '332_SocialNavigation_33_RewardList.csv', '332_SocialNavigation_34_RewardList.csv', '332_SocialNavigation_35_RewardList.csv', '332_SocialNavigation_7_RewardList.csv', '332_SocialNavigation_8_RewardList.csv', '332_SocialNavigation_9_RewardList.csv', '332_SocialNavigation_Memory_12_RewardList.csv', '332_SocialNavigation_Memory_24_RewardList.csv', '332_SocialNavigation_Memory_36_RewardList.csv', '332_SpaceNavigation_13_RewardList.csv', '332_SpaceNavigation_14_RewardList.csv', '332_SpaceNavigation_15_RewardList.csv', '332_SpaceNavigation_16_RewardList.csv', '332_SpaceNavigation_17_RewardList.csv', '332_SpaceNavigation_1_RewardList.csv', '332_SpaceNavigation_25_RewardList.csv', '332_SpaceNavigation_26_RewardList.csv', '332_SpaceNavigation_27_RewardList.csv', '332_SpaceNavigation_28_RewardList.csv', '332_SpaceNavigation_29_RewardList.csv', '332_SpaceNavigation_2_RewardList.csv', '332_SpaceNavigation_3_RewardList.csv', '332_SpaceNavigation_4_RewardList.csv', '332_SpaceNavigation_5_RewardList.csv', '332_SpaceNavigation_Memory_18_RewardList.csv', '332_SpaceNavigation_Memory_30_RewardList.csv', '332_SpaceNavigation_Memory_6_RewardList.csv', '332_Train_0_RewardList.csv']\n"
     ]
    },
    {
     "name": "stderr",
     "output_type": "stream",
     "text": [
      "C:\\Users\\Jun\\AppData\\Local\\Temp\\ipykernel_32380\\2713330869.py:42: FutureWarning:\n",
      "\n",
      "The behavior of DataFrame concatenation with empty or all-NA entries is deprecated. In a future version, this will no longer exclude empty or all-NA columns when determining the result dtypes. To retain the old behavior, exclude the relevant entries before the concat operation.\n",
      "\n"
     ]
    },
    {
     "name": "stdout",
     "output_type": "stream",
     "text": [
      "['333_SocialNavigation_10_RewardList.csv', '333_SocialNavigation_11_RewardList.csv', '333_SocialNavigation_19_RewardList.csv', '333_SocialNavigation_20_RewardList.csv', '333_SocialNavigation_21_RewardList.csv', '333_SocialNavigation_22_RewardList.csv', '333_SocialNavigation_23_RewardList.csv', '333_SocialNavigation_31_RewardList.csv', '333_SocialNavigation_32_RewardList.csv', '333_SocialNavigation_33_RewardList.csv', '333_SocialNavigation_34_RewardList.csv', '333_SocialNavigation_35_RewardList.csv', '333_SocialNavigation_7_RewardList.csv', '333_SocialNavigation_8_RewardList.csv', '333_SocialNavigation_9_RewardList.csv', '333_SocialNavigation_Memory_12_RewardList.csv', '333_SocialNavigation_Memory_24_RewardList.csv', '333_SocialNavigation_Memory_36_RewardList.csv', '333_SpaceNavigation_13_RewardList.csv', '333_SpaceNavigation_14_RewardList.csv', '333_SpaceNavigation_15_RewardList.csv', '333_SpaceNavigation_16_RewardList.csv', '333_SpaceNavigation_17_RewardList.csv', '333_SpaceNavigation_1_RewardList.csv', '333_SpaceNavigation_25_RewardList.csv', '333_SpaceNavigation_26_RewardList.csv', '333_SpaceNavigation_27_RewardList.csv', '333_SpaceNavigation_28_RewardList.csv', '333_SpaceNavigation_29_RewardList.csv', '333_SpaceNavigation_2_RewardList.csv', '333_SpaceNavigation_3_RewardList.csv', '333_SpaceNavigation_4_RewardList.csv', '333_SpaceNavigation_5_RewardList.csv', '333_SpaceNavigation_Memory_18_RewardList.csv', '333_SpaceNavigation_Memory_30_RewardList.csv', '333_SpaceNavigation_Memory_6_RewardList.csv', '333_Train_0_RewardList.csv']\n"
     ]
    },
    {
     "name": "stderr",
     "output_type": "stream",
     "text": [
      "C:\\Users\\Jun\\AppData\\Local\\Temp\\ipykernel_32380\\2713330869.py:42: FutureWarning:\n",
      "\n",
      "The behavior of DataFrame concatenation with empty or all-NA entries is deprecated. In a future version, this will no longer exclude empty or all-NA columns when determining the result dtypes. To retain the old behavior, exclude the relevant entries before the concat operation.\n",
      "\n"
     ]
    },
    {
     "name": "stdout",
     "output_type": "stream",
     "text": [
      "['334_SocialNavigation_10_RewardList.csv', '334_SocialNavigation_11_RewardList.csv', '334_SocialNavigation_19_RewardList.csv', '334_SocialNavigation_20_RewardList.csv', '334_SocialNavigation_21_RewardList.csv', '334_SocialNavigation_22_RewardList.csv', '334_SocialNavigation_23_RewardList.csv', '334_SocialNavigation_31_RewardList.csv', '334_SocialNavigation_32_RewardList.csv', '334_SocialNavigation_33_RewardList.csv', '334_SocialNavigation_34_RewardList.csv', '334_SocialNavigation_35_RewardList.csv', '334_SocialNavigation_7_RewardList.csv', '334_SocialNavigation_8_RewardList.csv', '334_SocialNavigation_9_RewardList.csv', '334_SocialNavigation_Memory_12_RewardList.csv', '334_SocialNavigation_Memory_24_RewardList.csv', '334_SocialNavigation_Memory_36_RewardList.csv', '334_SpaceNavigation_13_RewardList.csv', '334_SpaceNavigation_14_RewardList.csv', '334_SpaceNavigation_15_RewardList.csv', '334_SpaceNavigation_16_RewardList.csv', '334_SpaceNavigation_17_RewardList.csv', '334_SpaceNavigation_1_RewardList.csv', '334_SpaceNavigation_25_RewardList.csv', '334_SpaceNavigation_26_RewardList.csv', '334_SpaceNavigation_27_RewardList.csv', '334_SpaceNavigation_28_RewardList.csv', '334_SpaceNavigation_29_RewardList.csv', '334_SpaceNavigation_2_RewardList.csv', '334_SpaceNavigation_3_RewardList.csv', '334_SpaceNavigation_4_RewardList.csv', '334_SpaceNavigation_5_RewardList.csv', '334_SpaceNavigation_Memory_18_RewardList.csv', '334_SpaceNavigation_Memory_30_RewardList.csv', '334_SpaceNavigation_Memory_6_RewardList.csv', '334_Train_0_RewardList.csv']\n"
     ]
    },
    {
     "name": "stderr",
     "output_type": "stream",
     "text": [
      "C:\\Users\\Jun\\AppData\\Local\\Temp\\ipykernel_32380\\2713330869.py:42: FutureWarning:\n",
      "\n",
      "The behavior of DataFrame concatenation with empty or all-NA entries is deprecated. In a future version, this will no longer exclude empty or all-NA columns when determining the result dtypes. To retain the old behavior, exclude the relevant entries before the concat operation.\n",
      "\n"
     ]
    },
    {
     "name": "stdout",
     "output_type": "stream",
     "text": [
      "['335_SocialNavigation_10_RewardList.csv', '335_SocialNavigation_11_RewardList.csv', '335_SocialNavigation_19_RewardList.csv', '335_SocialNavigation_20_RewardList.csv', '335_SocialNavigation_21_RewardList.csv', '335_SocialNavigation_22_RewardList.csv', '335_SocialNavigation_23_RewardList.csv', '335_SocialNavigation_31_RewardList.csv', '335_SocialNavigation_32_RewardList.csv', '335_SocialNavigation_33_RewardList.csv', '335_SocialNavigation_34_RewardList.csv', '335_SocialNavigation_35_RewardList.csv', '335_SocialNavigation_7_RewardList.csv', '335_SocialNavigation_8_RewardList.csv', '335_SocialNavigation_9_RewardList.csv', '335_SocialNavigation_Memory_12_RewardList.csv', '335_SocialNavigation_Memory_24_RewardList.csv', '335_SocialNavigation_Memory_36_RewardList.csv', '335_SpaceNavigation_13_RewardList.csv', '335_SpaceNavigation_14_RewardList.csv', '335_SpaceNavigation_15_RewardList.csv', '335_SpaceNavigation_16_RewardList.csv', '335_SpaceNavigation_17_RewardList.csv', '335_SpaceNavigation_1_RewardList.csv', '335_SpaceNavigation_26_RewardList.csv', '335_SpaceNavigation_27_RewardList.csv', '335_SpaceNavigation_28_RewardList.csv', '335_SpaceNavigation_29_RewardList.csv', '335_SpaceNavigation_2_RewardList.csv', '335_SpaceNavigation_3_RewardList.csv', '335_SpaceNavigation_4_RewardList.csv', '335_SpaceNavigation_5_RewardList.csv', '335_SpaceNavigation_Memory_18_RewardList.csv', '335_SpaceNavigation_Memory_30_RewardList.csv', '335_SpaceNavigation_Memory_6_RewardList.csv', '335_Train_0_RewardList.csv']\n"
     ]
    },
    {
     "name": "stderr",
     "output_type": "stream",
     "text": [
      "C:\\Users\\Jun\\AppData\\Local\\Temp\\ipykernel_32380\\2713330869.py:42: FutureWarning:\n",
      "\n",
      "The behavior of DataFrame concatenation with empty or all-NA entries is deprecated. In a future version, this will no longer exclude empty or all-NA columns when determining the result dtypes. To retain the old behavior, exclude the relevant entries before the concat operation.\n",
      "\n"
     ]
    },
    {
     "name": "stdout",
     "output_type": "stream",
     "text": [
      "['336_SocialNavigation_10_RewardList.csv', '336_SocialNavigation_11_RewardList.csv', '336_SocialNavigation_19_RewardList.csv', '336_SocialNavigation_20_RewardList.csv', '336_SocialNavigation_21_RewardList.csv', '336_SocialNavigation_22_RewardList.csv', '336_SocialNavigation_23_RewardList.csv', '336_SocialNavigation_31_RewardList.csv', '336_SocialNavigation_32_RewardList.csv', '336_SocialNavigation_33_RewardList.csv', '336_SocialNavigation_34_RewardList.csv', '336_SocialNavigation_35_RewardList.csv', '336_SocialNavigation_7_RewardList.csv', '336_SocialNavigation_8_RewardList.csv', '336_SocialNavigation_9_RewardList.csv', '336_SocialNavigation_Memory_12_RewardList.csv', '336_SocialNavigation_Memory_24_RewardList.csv', '336_SocialNavigation_Memory_36_RewardList.csv', '336_SpaceNavigation_13_RewardList.csv', '336_SpaceNavigation_14_RewardList.csv', '336_SpaceNavigation_15_RewardList.csv', '336_SpaceNavigation_16_RewardList.csv', '336_SpaceNavigation_17_RewardList.csv', '336_SpaceNavigation_1_RewardList.csv', '336_SpaceNavigation_25_RewardList.csv', '336_SpaceNavigation_26_RewardList.csv', '336_SpaceNavigation_27_RewardList.csv', '336_SpaceNavigation_28_RewardList.csv', '336_SpaceNavigation_29_RewardList.csv', '336_SpaceNavigation_2_RewardList.csv', '336_SpaceNavigation_3_RewardList.csv', '336_SpaceNavigation_4_RewardList.csv', '336_SpaceNavigation_5_RewardList.csv', '336_SpaceNavigation_Memory_18_RewardList.csv', '336_SpaceNavigation_Memory_30_RewardList.csv', '336_SpaceNavigation_Memory_6_RewardList.csv', '336_Train_0_RewardList.csv']\n"
     ]
    },
    {
     "name": "stderr",
     "output_type": "stream",
     "text": [
      "C:\\Users\\Jun\\AppData\\Local\\Temp\\ipykernel_32380\\2713330869.py:42: FutureWarning:\n",
      "\n",
      "The behavior of DataFrame concatenation with empty or all-NA entries is deprecated. In a future version, this will no longer exclude empty or all-NA columns when determining the result dtypes. To retain the old behavior, exclude the relevant entries before the concat operation.\n",
      "\n"
     ]
    },
    {
     "name": "stdout",
     "output_type": "stream",
     "text": [
      "['337_SocialNavigation_10_RewardList.csv', '337_SocialNavigation_11_RewardList.csv', '337_SocialNavigation_19_RewardList.csv', '337_SocialNavigation_20_RewardList.csv', '337_SocialNavigation_21_RewardList.csv', '337_SocialNavigation_22_RewardList.csv', '337_SocialNavigation_23_RewardList.csv', '337_SocialNavigation_31_RewardList.csv', '337_SocialNavigation_32_RewardList.csv', '337_SocialNavigation_33_RewardList.csv', '337_SocialNavigation_34_RewardList.csv', '337_SocialNavigation_35_RewardList.csv', '337_SocialNavigation_7_RewardList.csv', '337_SocialNavigation_8_RewardList.csv', '337_SocialNavigation_9_RewardList.csv', '337_SocialNavigation_Memory_12_RewardList.csv', '337_SocialNavigation_Memory_24_RewardList.csv', '337_SocialNavigation_Memory_36_RewardList.csv', '337_SpaceNavigation_13_RewardList.csv', '337_SpaceNavigation_14_RewardList.csv', '337_SpaceNavigation_15_RewardList.csv', '337_SpaceNavigation_16_RewardList.csv', '337_SpaceNavigation_17_RewardList.csv', '337_SpaceNavigation_1_RewardList.csv', '337_SpaceNavigation_25_RewardList.csv', '337_SpaceNavigation_26_RewardList.csv', '337_SpaceNavigation_27_RewardList.csv', '337_SpaceNavigation_28_RewardList.csv', '337_SpaceNavigation_29_RewardList.csv', '337_SpaceNavigation_2_RewardList.csv', '337_SpaceNavigation_3_RewardList.csv', '337_SpaceNavigation_4_RewardList.csv', '337_SpaceNavigation_5_RewardList.csv', '337_SpaceNavigation_Memory_18_RewardList.csv', '337_SpaceNavigation_Memory_30_RewardList.csv', '337_SpaceNavigation_Memory_6_RewardList.csv', '337_Train_0_RewardList.csv']\n"
     ]
    },
    {
     "name": "stderr",
     "output_type": "stream",
     "text": [
      "C:\\Users\\Jun\\AppData\\Local\\Temp\\ipykernel_32380\\2713330869.py:42: FutureWarning:\n",
      "\n",
      "The behavior of DataFrame concatenation with empty or all-NA entries is deprecated. In a future version, this will no longer exclude empty or all-NA columns when determining the result dtypes. To retain the old behavior, exclude the relevant entries before the concat operation.\n",
      "\n"
     ]
    },
    {
     "name": "stdout",
     "output_type": "stream",
     "text": [
      "['338_SocialNavigation_10_RewardList.csv', '338_SocialNavigation_11_RewardList.csv', '338_SocialNavigation_19_RewardList.csv', '338_SocialNavigation_20_RewardList.csv', '338_SocialNavigation_21_RewardList.csv', '338_SocialNavigation_22_RewardList.csv', '338_SocialNavigation_23_RewardList.csv', '338_SocialNavigation_31_RewardList.csv', '338_SocialNavigation_32_RewardList.csv', '338_SocialNavigation_33_RewardList.csv', '338_SocialNavigation_34_RewardList.csv', '338_SocialNavigation_35_RewardList.csv', '338_SocialNavigation_8_RewardList.csv', '338_SocialNavigation_9_RewardList.csv', '338_SocialNavigation_Memory_12_RewardList.csv', '338_SocialNavigation_Memory_24_RewardList.csv', '338_SocialNavigation_Memory_36_RewardList.csv', '338_SpaceNavigation_14_RewardList.csv', '338_SpaceNavigation_15_RewardList.csv', '338_SpaceNavigation_16_RewardList.csv', '338_SpaceNavigation_17_RewardList.csv', '338_SpaceNavigation_1_RewardList.csv', '338_SpaceNavigation_25_RewardList.csv', '338_SpaceNavigation_26_RewardList.csv', '338_SpaceNavigation_27_RewardList.csv', '338_SpaceNavigation_28_RewardList.csv', '338_SpaceNavigation_29_RewardList.csv', '338_SpaceNavigation_2_RewardList.csv', '338_SpaceNavigation_3_RewardList.csv', '338_SpaceNavigation_4_RewardList.csv', '338_SpaceNavigation_5_RewardList.csv', '338_SpaceNavigation_Memory_18_RewardList.csv', '338_SpaceNavigation_Memory_30_RewardList.csv', '338_SpaceNavigation_Memory_6_RewardList.csv', '338_Train_0_RewardList.csv']\n"
     ]
    },
    {
     "name": "stderr",
     "output_type": "stream",
     "text": [
      "C:\\Users\\Jun\\AppData\\Local\\Temp\\ipykernel_32380\\2713330869.py:42: FutureWarning:\n",
      "\n",
      "The behavior of DataFrame concatenation with empty or all-NA entries is deprecated. In a future version, this will no longer exclude empty or all-NA columns when determining the result dtypes. To retain the old behavior, exclude the relevant entries before the concat operation.\n",
      "\n"
     ]
    },
    {
     "name": "stdout",
     "output_type": "stream",
     "text": [
      "['339_SocialNavigation_10_RewardList.csv', '339_SocialNavigation_11_RewardList.csv', '339_SocialNavigation_19_RewardList.csv', '339_SocialNavigation_20_RewardList.csv', '339_SocialNavigation_21_RewardList.csv', '339_SocialNavigation_22_RewardList.csv', '339_SocialNavigation_23_RewardList.csv', '339_SocialNavigation_31_RewardList.csv', '339_SocialNavigation_32_RewardList.csv', '339_SocialNavigation_33_RewardList.csv', '339_SocialNavigation_34_RewardList.csv', '339_SocialNavigation_35_RewardList.csv', '339_SocialNavigation_7_RewardList.csv', '339_SocialNavigation_8_RewardList.csv', '339_SocialNavigation_9_RewardList.csv', '339_SocialNavigation_Memory_12_RewardList.csv', '339_SocialNavigation_Memory_24_RewardList.csv', '339_SocialNavigation_Memory_36_RewardList.csv', '339_SpaceNavigation_13_RewardList.csv', '339_SpaceNavigation_14_RewardList.csv', '339_SpaceNavigation_15_RewardList.csv', '339_SpaceNavigation_16_RewardList.csv', '339_SpaceNavigation_17_RewardList.csv', '339_SpaceNavigation_1_RewardList.csv', '339_SpaceNavigation_25_RewardList.csv', '339_SpaceNavigation_26_RewardList.csv', '339_SpaceNavigation_27_RewardList.csv', '339_SpaceNavigation_28_RewardList.csv', '339_SpaceNavigation_29_RewardList.csv', '339_SpaceNavigation_2_RewardList.csv', '339_SpaceNavigation_3_RewardList.csv', '339_SpaceNavigation_4_RewardList.csv', '339_SpaceNavigation_5_RewardList.csv', '339_SpaceNavigation_Memory_18_RewardList.csv', '339_SpaceNavigation_Memory_30_RewardList.csv', '339_SpaceNavigation_Memory_6_RewardList.csv', '339_Train_0_RewardList.csv']\n"
     ]
    },
    {
     "name": "stderr",
     "output_type": "stream",
     "text": [
      "C:\\Users\\Jun\\AppData\\Local\\Temp\\ipykernel_32380\\2713330869.py:42: FutureWarning:\n",
      "\n",
      "The behavior of DataFrame concatenation with empty or all-NA entries is deprecated. In a future version, this will no longer exclude empty or all-NA columns when determining the result dtypes. To retain the old behavior, exclude the relevant entries before the concat operation.\n",
      "\n"
     ]
    },
    {
     "name": "stdout",
     "output_type": "stream",
     "text": [
      "['340_SocialNavigation_10_RewardList.csv', '340_SocialNavigation_11_RewardList.csv', '340_SocialNavigation_19_RewardList.csv', '340_SocialNavigation_20_RewardList.csv', '340_SocialNavigation_21_RewardList.csv', '340_SocialNavigation_22_RewardList.csv', '340_SocialNavigation_23_RewardList.csv', '340_SocialNavigation_31_RewardList.csv', '340_SocialNavigation_32_RewardList.csv', '340_SocialNavigation_33_RewardList.csv', '340_SocialNavigation_34_RewardList.csv', '340_SocialNavigation_35_RewardList.csv', '340_SocialNavigation_7_RewardList.csv', '340_SocialNavigation_8_RewardList.csv', '340_SocialNavigation_9_RewardList.csv', '340_SocialNavigation_Memory_12_RewardList.csv', '340_SocialNavigation_Memory_24_RewardList.csv', '340_SocialNavigation_Memory_36_RewardList.csv', '340_SpaceNavigation_13_RewardList.csv', '340_SpaceNavigation_14_RewardList.csv', '340_SpaceNavigation_15_RewardList.csv', '340_SpaceNavigation_16_RewardList.csv', '340_SpaceNavigation_17_RewardList.csv', '340_SpaceNavigation_1_RewardList.csv', '340_SpaceNavigation_25_RewardList.csv', '340_SpaceNavigation_26_RewardList.csv', '340_SpaceNavigation_27_RewardList.csv', '340_SpaceNavigation_28_RewardList.csv', '340_SpaceNavigation_29_RewardList.csv', '340_SpaceNavigation_2_RewardList.csv', '340_SpaceNavigation_3_RewardList.csv', '340_SpaceNavigation_4_RewardList.csv', '340_SpaceNavigation_5_RewardList.csv', '340_SpaceNavigation_Memory_18_RewardList.csv', '340_SpaceNavigation_Memory_30_RewardList.csv', '340_SpaceNavigation_Memory_6_RewardList.csv', '340_Train_0_RewardList.csv']\n"
     ]
    },
    {
     "name": "stderr",
     "output_type": "stream",
     "text": [
      "C:\\Users\\Jun\\AppData\\Local\\Temp\\ipykernel_32380\\2713330869.py:42: FutureWarning:\n",
      "\n",
      "The behavior of DataFrame concatenation with empty or all-NA entries is deprecated. In a future version, this will no longer exclude empty or all-NA columns when determining the result dtypes. To retain the old behavior, exclude the relevant entries before the concat operation.\n",
      "\n"
     ]
    },
    {
     "name": "stdout",
     "output_type": "stream",
     "text": [
      "['341_SocialNavigation_10_RewardList.csv', '341_SocialNavigation_11_RewardList.csv', '341_SocialNavigation_19_RewardList.csv', '341_SocialNavigation_20_RewardList.csv', '341_SocialNavigation_21_RewardList.csv', '341_SocialNavigation_22_RewardList.csv', '341_SocialNavigation_23_RewardList.csv', '341_SocialNavigation_31_RewardList.csv', '341_SocialNavigation_32_RewardList.csv', '341_SocialNavigation_33_RewardList.csv', '341_SocialNavigation_34_RewardList.csv', '341_SocialNavigation_35_RewardList.csv', '341_SocialNavigation_7_RewardList.csv', '341_SocialNavigation_8_RewardList.csv', '341_SocialNavigation_9_RewardList.csv', '341_SocialNavigation_Memory_12_RewardList.csv', '341_SocialNavigation_Memory_24_RewardList.csv', '341_SocialNavigation_Memory_36_RewardList.csv', '341_SpaceNavigation_13_RewardList.csv', '341_SpaceNavigation_14_RewardList.csv', '341_SpaceNavigation_15_RewardList.csv', '341_SpaceNavigation_16_RewardList.csv', '341_SpaceNavigation_17_RewardList.csv', '341_SpaceNavigation_1_RewardList.csv', '341_SpaceNavigation_25_RewardList.csv', '341_SpaceNavigation_26_RewardList.csv', '341_SpaceNavigation_27_RewardList.csv', '341_SpaceNavigation_28_RewardList.csv', '341_SpaceNavigation_29_RewardList.csv', '341_SpaceNavigation_2_RewardList.csv', '341_SpaceNavigation_3_RewardList.csv', '341_SpaceNavigation_4_RewardList.csv', '341_SpaceNavigation_5_RewardList.csv', '341_SpaceNavigation_Memory_18_RewardList.csv', '341_SpaceNavigation_Memory_30_RewardList.csv', '341_SpaceNavigation_Memory_6_RewardList.csv', '341_Train_0_RewardList.csv']\n"
     ]
    },
    {
     "name": "stderr",
     "output_type": "stream",
     "text": [
      "C:\\Users\\Jun\\AppData\\Local\\Temp\\ipykernel_32380\\2713330869.py:42: FutureWarning:\n",
      "\n",
      "The behavior of DataFrame concatenation with empty or all-NA entries is deprecated. In a future version, this will no longer exclude empty or all-NA columns when determining the result dtypes. To retain the old behavior, exclude the relevant entries before the concat operation.\n",
      "\n"
     ]
    },
    {
     "name": "stdout",
     "output_type": "stream",
     "text": [
      "['342_SocialNavigation_10_RewardList.csv', '342_SocialNavigation_11_RewardList.csv', '342_SocialNavigation_19_RewardList.csv', '342_SocialNavigation_20_RewardList.csv', '342_SocialNavigation_21_RewardList.csv', '342_SocialNavigation_22_RewardList.csv', '342_SocialNavigation_23_RewardList.csv', '342_SocialNavigation_31_RewardList.csv', '342_SocialNavigation_32_RewardList.csv', '342_SocialNavigation_33_RewardList.csv', '342_SocialNavigation_34_RewardList.csv', '342_SocialNavigation_35_RewardList.csv', '342_SocialNavigation_7_RewardList.csv', '342_SocialNavigation_8_RewardList.csv', '342_SocialNavigation_9_RewardList.csv', '342_SocialNavigation_Memory_12_RewardList.csv', '342_SocialNavigation_Memory_24_RewardList.csv', '342_SocialNavigation_Memory_36_RewardList.csv', '342_SpaceNavigation_13_RewardList.csv', '342_SpaceNavigation_14_RewardList.csv', '342_SpaceNavigation_15_RewardList.csv', '342_SpaceNavigation_16_RewardList.csv', '342_SpaceNavigation_17_RewardList.csv', '342_SpaceNavigation_1_RewardList.csv', '342_SpaceNavigation_25_RewardList.csv', '342_SpaceNavigation_26_RewardList.csv', '342_SpaceNavigation_27_RewardList.csv', '342_SpaceNavigation_28_RewardList.csv', '342_SpaceNavigation_29_RewardList.csv', '342_SpaceNavigation_2_RewardList.csv', '342_SpaceNavigation_3_RewardList.csv', '342_SpaceNavigation_4_RewardList.csv', '342_SpaceNavigation_5_RewardList.csv', '342_SpaceNavigation_Memory_18_RewardList.csv', '342_SpaceNavigation_Memory_30_RewardList.csv', '342_SpaceNavigation_Memory_6_RewardList.csv', '342_Train_0_RewardList.csv']\n"
     ]
    },
    {
     "name": "stderr",
     "output_type": "stream",
     "text": [
      "C:\\Users\\Jun\\AppData\\Local\\Temp\\ipykernel_32380\\2713330869.py:42: FutureWarning:\n",
      "\n",
      "The behavior of DataFrame concatenation with empty or all-NA entries is deprecated. In a future version, this will no longer exclude empty or all-NA columns when determining the result dtypes. To retain the old behavior, exclude the relevant entries before the concat operation.\n",
      "\n"
     ]
    },
    {
     "name": "stdout",
     "output_type": "stream",
     "text": [
      "['343_SocialNavigation_10_RewardList.csv', '343_SocialNavigation_11_RewardList.csv', '343_SocialNavigation_19_RewardList.csv', '343_SocialNavigation_20_RewardList.csv', '343_SocialNavigation_21_RewardList.csv', '343_SocialNavigation_22_RewardList.csv', '343_SocialNavigation_23_RewardList.csv', '343_SocialNavigation_7_RewardList.csv', '343_SocialNavigation_8_RewardList.csv', '343_SocialNavigation_9_RewardList.csv', '343_SocialNavigation_Memory_12_RewardList.csv', '343_SocialNavigation_Memory_24_RewardList.csv', '343_SpaceNavigation_13_RewardList.csv', '343_SpaceNavigation_14_RewardList.csv', '343_SpaceNavigation_15_RewardList.csv', '343_SpaceNavigation_16_RewardList.csv', '343_SpaceNavigation_17_RewardList.csv', '343_SpaceNavigation_1_RewardList.csv', '343_SpaceNavigation_2_RewardList.csv', '343_SpaceNavigation_3_RewardList.csv', '343_SpaceNavigation_4_RewardList.csv', '343_SpaceNavigation_5_RewardList.csv', '343_SpaceNavigation_Memory_18_RewardList.csv', '343_SpaceNavigation_Memory_6_RewardList.csv', '343_Train_0_RewardList.csv']\n"
     ]
    },
    {
     "name": "stderr",
     "output_type": "stream",
     "text": [
      "C:\\Users\\Jun\\AppData\\Local\\Temp\\ipykernel_32380\\2713330869.py:42: FutureWarning:\n",
      "\n",
      "The behavior of DataFrame concatenation with empty or all-NA entries is deprecated. In a future version, this will no longer exclude empty or all-NA columns when determining the result dtypes. To retain the old behavior, exclude the relevant entries before the concat operation.\n",
      "\n"
     ]
    },
    {
     "name": "stdout",
     "output_type": "stream",
     "text": [
      "['344_SocialNavigation_10_RewardList.csv', '344_SocialNavigation_11_RewardList.csv', '344_SocialNavigation_19_RewardList.csv', '344_SocialNavigation_20_RewardList.csv', '344_SocialNavigation_21_RewardList.csv', '344_SocialNavigation_22_RewardList.csv', '344_SocialNavigation_23_RewardList.csv', '344_SocialNavigation_31_RewardList.csv', '344_SocialNavigation_32_RewardList.csv', '344_SocialNavigation_33_RewardList.csv', '344_SocialNavigation_34_RewardList.csv', '344_SocialNavigation_35_RewardList.csv', '344_SocialNavigation_7_RewardList.csv', '344_SocialNavigation_8_RewardList.csv', '344_SocialNavigation_9_RewardList.csv', '344_SocialNavigation_Memory_12_RewardList.csv', '344_SocialNavigation_Memory_24_RewardList.csv', '344_SocialNavigation_Memory_36_RewardList.csv', '344_SpaceNavigation_13_RewardList.csv', '344_SpaceNavigation_14_RewardList.csv', '344_SpaceNavigation_15_RewardList.csv', '344_SpaceNavigation_16_RewardList.csv', '344_SpaceNavigation_17_RewardList.csv', '344_SpaceNavigation_1_RewardList.csv', '344_SpaceNavigation_25_RewardList.csv', '344_SpaceNavigation_26_RewardList.csv', '344_SpaceNavigation_27_RewardList.csv', '344_SpaceNavigation_28_RewardList.csv', '344_SpaceNavigation_29_RewardList.csv', '344_SpaceNavigation_2_RewardList.csv', '344_SpaceNavigation_3_RewardList.csv', '344_SpaceNavigation_4_RewardList.csv', '344_SpaceNavigation_5_RewardList.csv', '344_SpaceNavigation_Memory_18_RewardList.csv', '344_SpaceNavigation_Memory_30_RewardList.csv', '344_SpaceNavigation_Memory_6_RewardList.csv', '344_Train_0_RewardList.csv']\n"
     ]
    },
    {
     "name": "stderr",
     "output_type": "stream",
     "text": [
      "C:\\Users\\Jun\\AppData\\Local\\Temp\\ipykernel_32380\\2713330869.py:42: FutureWarning:\n",
      "\n",
      "The behavior of DataFrame concatenation with empty or all-NA entries is deprecated. In a future version, this will no longer exclude empty or all-NA columns when determining the result dtypes. To retain the old behavior, exclude the relevant entries before the concat operation.\n",
      "\n"
     ]
    },
    {
     "name": "stdout",
     "output_type": "stream",
     "text": [
      "['345_SocialNavigation_10_RewardList.csv', '345_SocialNavigation_11_RewardList.csv', '345_SocialNavigation_19_RewardList.csv', '345_SocialNavigation_20_RewardList.csv', '345_SocialNavigation_21_RewardList.csv', '345_SocialNavigation_22_RewardList.csv', '345_SocialNavigation_23_RewardList.csv', '345_SocialNavigation_31_RewardList.csv', '345_SocialNavigation_32_RewardList.csv', '345_SocialNavigation_33_RewardList.csv', '345_SocialNavigation_34_RewardList.csv', '345_SocialNavigation_35_RewardList.csv', '345_SocialNavigation_7_RewardList.csv', '345_SocialNavigation_8_RewardList.csv', '345_SocialNavigation_9_RewardList.csv', '345_SocialNavigation_Memory_12_RewardList.csv', '345_SocialNavigation_Memory_24_RewardList.csv', '345_SocialNavigation_Memory_36_RewardList.csv', '345_SpaceNavigation_13_RewardList.csv', '345_SpaceNavigation_14_RewardList.csv', '345_SpaceNavigation_15_RewardList.csv', '345_SpaceNavigation_16_RewardList.csv', '345_SpaceNavigation_17_RewardList.csv', '345_SpaceNavigation_1_RewardList.csv', '345_SpaceNavigation_25_RewardList.csv', '345_SpaceNavigation_26_RewardList.csv', '345_SpaceNavigation_27_RewardList.csv', '345_SpaceNavigation_28_RewardList.csv', '345_SpaceNavigation_29_RewardList.csv', '345_SpaceNavigation_2_RewardList.csv', '345_SpaceNavigation_3_RewardList.csv', '345_SpaceNavigation_4_RewardList.csv', '345_SpaceNavigation_5_RewardList.csv', '345_SpaceNavigation_Memory_18_RewardList.csv', '345_SpaceNavigation_Memory_30_RewardList.csv', '345_SpaceNavigation_Memory_6_RewardList.csv', '345_Train_0_RewardList.csv']\n",
      "['346_SocialNavigation_10_RewardList.csv', '346_SocialNavigation_11_RewardList.csv', '346_SocialNavigation_19_RewardList.csv', '346_SocialNavigation_20_RewardList.csv', '346_SocialNavigation_21_RewardList.csv', '346_SocialNavigation_22_RewardList.csv', '346_SocialNavigation_23_RewardList.csv', '346_SocialNavigation_31_RewardList.csv', '346_SocialNavigation_32_RewardList.csv', '346_SocialNavigation_33_RewardList.csv', '346_SocialNavigation_34_RewardList.csv', '346_SocialNavigation_35_RewardList.csv', '346_SocialNavigation_7_RewardList.csv', '346_SocialNavigation_8_RewardList.csv', '346_SocialNavigation_9_RewardList.csv', '346_SocialNavigation_Memory_12_RewardList.csv', '346_SocialNavigation_Memory_24_RewardList.csv', '346_SocialNavigation_Memory_36_RewardList.csv', '346_SpaceNavigation_13_RewardList.csv', '346_SpaceNavigation_14_RewardList.csv', '346_SpaceNavigation_15_RewardList.csv', '346_SpaceNavigation_16_RewardList.csv', '346_SpaceNavigation_17_RewardList.csv', '346_SpaceNavigation_1_RewardList.csv', '346_SpaceNavigation_25_RewardList.csv', '346_SpaceNavigation_26_RewardList.csv', '346_SpaceNavigation_27_RewardList.csv', '346_SpaceNavigation_28_RewardList.csv', '346_SpaceNavigation_29_RewardList.csv', '346_SpaceNavigation_2_RewardList.csv', '346_SpaceNavigation_3_RewardList.csv', '346_SpaceNavigation_4_RewardList.csv', '346_SpaceNavigation_5_RewardList.csv', '346_SpaceNavigation_Memory_18_RewardList.csv', '346_SpaceNavigation_Memory_30_RewardList.csv', '346_SpaceNavigation_Memory_6_RewardList.csv', '346_Train_0_RewardList.csv']\n"
     ]
    },
    {
     "name": "stderr",
     "output_type": "stream",
     "text": [
      "C:\\Users\\Jun\\AppData\\Local\\Temp\\ipykernel_32380\\2713330869.py:42: FutureWarning:\n",
      "\n",
      "The behavior of DataFrame concatenation with empty or all-NA entries is deprecated. In a future version, this will no longer exclude empty or all-NA columns when determining the result dtypes. To retain the old behavior, exclude the relevant entries before the concat operation.\n",
      "\n",
      "C:\\Users\\Jun\\AppData\\Local\\Temp\\ipykernel_32380\\2713330869.py:42: FutureWarning:\n",
      "\n",
      "The behavior of DataFrame concatenation with empty or all-NA entries is deprecated. In a future version, this will no longer exclude empty or all-NA columns when determining the result dtypes. To retain the old behavior, exclude the relevant entries before the concat operation.\n",
      "\n"
     ]
    },
    {
     "data": {
      "text/html": [
       "<div>\n",
       "<style scoped>\n",
       "    .dataframe tbody tr th:only-of-type {\n",
       "        vertical-align: middle;\n",
       "    }\n",
       "\n",
       "    .dataframe tbody tr th {\n",
       "        vertical-align: top;\n",
       "    }\n",
       "\n",
       "    .dataframe thead th {\n",
       "        text-align: right;\n",
       "    }\n",
       "</style>\n",
       "<table border=\"1\" class=\"dataframe\">\n",
       "  <thead>\n",
       "    <tr style=\"text-align: right;\">\n",
       "      <th></th>\n",
       "      <th>trial</th>\n",
       "      <th>block</th>\n",
       "      <th>type</th>\n",
       "      <th>value</th>\n",
       "      <th>posx</th>\n",
       "      <th>posy</th>\n",
       "    </tr>\n",
       "  </thead>\n",
       "  <tbody>\n",
       "    <tr>\n",
       "      <th>0</th>\n",
       "      <td>1</td>\n",
       "      <td>1</td>\n",
       "      <td>SpaceNavigation</td>\n",
       "      <td>Negative</td>\n",
       "      <td>75.6</td>\n",
       "      <td>-43.6</td>\n",
       "    </tr>\n",
       "    <tr>\n",
       "      <th>1</th>\n",
       "      <td>1</td>\n",
       "      <td>1</td>\n",
       "      <td>SpaceNavigation</td>\n",
       "      <td>Negative</td>\n",
       "      <td>76.0</td>\n",
       "      <td>15.1</td>\n",
       "    </tr>\n",
       "    <tr>\n",
       "      <th>0</th>\n",
       "      <td>2</td>\n",
       "      <td>1</td>\n",
       "      <td>SpaceNavigation</td>\n",
       "      <td>Positive</td>\n",
       "      <td>-15.1</td>\n",
       "      <td>-38.5</td>\n",
       "    </tr>\n",
       "    <tr>\n",
       "      <th>1</th>\n",
       "      <td>2</td>\n",
       "      <td>1</td>\n",
       "      <td>SpaceNavigation</td>\n",
       "      <td>Positive</td>\n",
       "      <td>15.3</td>\n",
       "      <td>-6.6</td>\n",
       "    </tr>\n",
       "    <tr>\n",
       "      <th>2</th>\n",
       "      <td>2</td>\n",
       "      <td>1</td>\n",
       "      <td>SpaceNavigation</td>\n",
       "      <td>Positive</td>\n",
       "      <td>45.8</td>\n",
       "      <td>28.5</td>\n",
       "    </tr>\n",
       "    <tr>\n",
       "      <th>...</th>\n",
       "      <td>...</td>\n",
       "      <td>...</td>\n",
       "      <td>...</td>\n",
       "      <td>...</td>\n",
       "      <td>...</td>\n",
       "      <td>...</td>\n",
       "    </tr>\n",
       "    <tr>\n",
       "      <th>0</th>\n",
       "      <td>34</td>\n",
       "      <td>6</td>\n",
       "      <td>SocialNavigation</td>\n",
       "      <td>Positive</td>\n",
       "      <td>9.1</td>\n",
       "      <td>-1.2</td>\n",
       "    </tr>\n",
       "    <tr>\n",
       "      <th>1</th>\n",
       "      <td>34</td>\n",
       "      <td>6</td>\n",
       "      <td>SocialNavigation</td>\n",
       "      <td>Negative</td>\n",
       "      <td>44.5</td>\n",
       "      <td>-25.3</td>\n",
       "    </tr>\n",
       "    <tr>\n",
       "      <th>2</th>\n",
       "      <td>34</td>\n",
       "      <td>6</td>\n",
       "      <td>SocialNavigation</td>\n",
       "      <td>Negative</td>\n",
       "      <td>75.9</td>\n",
       "      <td>15.4</td>\n",
       "    </tr>\n",
       "    <tr>\n",
       "      <th>0</th>\n",
       "      <td>35</td>\n",
       "      <td>6</td>\n",
       "      <td>SocialNavigation</td>\n",
       "      <td>Negative</td>\n",
       "      <td>-15.5</td>\n",
       "      <td>28.5</td>\n",
       "    </tr>\n",
       "    <tr>\n",
       "      <th>1</th>\n",
       "      <td>35</td>\n",
       "      <td>6</td>\n",
       "      <td>SocialNavigation</td>\n",
       "      <td>Positive</td>\n",
       "      <td>-1.5</td>\n",
       "      <td>50.1</td>\n",
       "    </tr>\n",
       "  </tbody>\n",
       "</table>\n",
       "<p>3741 rows × 6 columns</p>\n",
       "</div>"
      ],
      "text/plain": [
       "   trial block              type     value  posx  posy\n",
       "0      1     1   SpaceNavigation  Negative  75.6 -43.6\n",
       "1      1     1   SpaceNavigation  Negative  76.0  15.1\n",
       "0      2     1   SpaceNavigation  Positive -15.1 -38.5\n",
       "1      2     1   SpaceNavigation  Positive  15.3  -6.6\n",
       "2      2     1   SpaceNavigation  Positive  45.8  28.5\n",
       "..   ...   ...               ...       ...   ...   ...\n",
       "0     34     6  SocialNavigation  Positive   9.1  -1.2\n",
       "1     34     6  SocialNavigation  Negative  44.5 -25.3\n",
       "2     34     6  SocialNavigation  Negative  75.9  15.4\n",
       "0     35     6  SocialNavigation  Negative -15.5  28.5\n",
       "1     35     6  SocialNavigation  Positive  -1.5  50.1\n",
       "\n",
       "[3741 rows x 6 columns]"
      ]
     },
     "execution_count": 81,
     "metadata": {},
     "output_type": "execute_result"
    }
   ],
   "source": [
    "new_df = pd.DataFrame(columns=['trial','block','type','value','posx','posy'])\n",
    "\n",
    "\n",
    "\n",
    "for subject_id in range(301,347):\n",
    "    df = get_interaction_data(subject_id)\n",
    "    new_df = pd.concat([new_df,df])\n",
    "new_df"
   ]
  },
  {
   "cell_type": "code",
   "execution_count": 82,
   "metadata": {},
   "outputs": [
    {
     "data": {
      "text/html": [
       "<div>\n",
       "<style scoped>\n",
       "    .dataframe tbody tr th:only-of-type {\n",
       "        vertical-align: middle;\n",
       "    }\n",
       "\n",
       "    .dataframe tbody tr th {\n",
       "        vertical-align: top;\n",
       "    }\n",
       "\n",
       "    .dataframe thead th {\n",
       "        text-align: right;\n",
       "    }\n",
       "</style>\n",
       "<table border=\"1\" class=\"dataframe\">\n",
       "  <thead>\n",
       "    <tr style=\"text-align: right;\">\n",
       "      <th></th>\n",
       "      <th>trial</th>\n",
       "      <th>block</th>\n",
       "      <th>type</th>\n",
       "      <th>value</th>\n",
       "      <th>posx</th>\n",
       "      <th>posy</th>\n",
       "    </tr>\n",
       "  </thead>\n",
       "  <tbody>\n",
       "    <tr>\n",
       "      <th>0</th>\n",
       "      <td>1</td>\n",
       "      <td>1</td>\n",
       "      <td>SpaceNavigation</td>\n",
       "      <td>Negative</td>\n",
       "      <td>75.6</td>\n",
       "      <td>-43.6</td>\n",
       "    </tr>\n",
       "    <tr>\n",
       "      <th>1</th>\n",
       "      <td>1</td>\n",
       "      <td>1</td>\n",
       "      <td>SpaceNavigation</td>\n",
       "      <td>Negative</td>\n",
       "      <td>76.0</td>\n",
       "      <td>15.1</td>\n",
       "    </tr>\n",
       "    <tr>\n",
       "      <th>0</th>\n",
       "      <td>2</td>\n",
       "      <td>1</td>\n",
       "      <td>SpaceNavigation</td>\n",
       "      <td>Positive</td>\n",
       "      <td>-15.1</td>\n",
       "      <td>-38.5</td>\n",
       "    </tr>\n",
       "    <tr>\n",
       "      <th>1</th>\n",
       "      <td>2</td>\n",
       "      <td>1</td>\n",
       "      <td>SpaceNavigation</td>\n",
       "      <td>Positive</td>\n",
       "      <td>15.3</td>\n",
       "      <td>-6.6</td>\n",
       "    </tr>\n",
       "    <tr>\n",
       "      <th>2</th>\n",
       "      <td>2</td>\n",
       "      <td>1</td>\n",
       "      <td>SpaceNavigation</td>\n",
       "      <td>Positive</td>\n",
       "      <td>45.8</td>\n",
       "      <td>28.5</td>\n",
       "    </tr>\n",
       "    <tr>\n",
       "      <th>3</th>\n",
       "      <td>2</td>\n",
       "      <td>1</td>\n",
       "      <td>SpaceNavigation</td>\n",
       "      <td>Negative</td>\n",
       "      <td>-14.1</td>\n",
       "      <td>28.6</td>\n",
       "    </tr>\n",
       "    <tr>\n",
       "      <th>2</th>\n",
       "      <td>3</td>\n",
       "      <td>1</td>\n",
       "      <td>SpaceNavigation</td>\n",
       "      <td>Positive</td>\n",
       "      <td>0.2</td>\n",
       "      <td>51.7</td>\n",
       "    </tr>\n",
       "    <tr>\n",
       "      <th>0</th>\n",
       "      <td>10</td>\n",
       "      <td>2</td>\n",
       "      <td>SocialNavigation</td>\n",
       "      <td>Positive</td>\n",
       "      <td>-15.6</td>\n",
       "      <td>-43.4</td>\n",
       "    </tr>\n",
       "    <tr>\n",
       "      <th>1</th>\n",
       "      <td>10</td>\n",
       "      <td>2</td>\n",
       "      <td>SocialNavigation</td>\n",
       "      <td>Positive</td>\n",
       "      <td>9.1</td>\n",
       "      <td>-1.2</td>\n",
       "    </tr>\n",
       "    <tr>\n",
       "      <th>2</th>\n",
       "      <td>10</td>\n",
       "      <td>2</td>\n",
       "      <td>SocialNavigation</td>\n",
       "      <td>Positive</td>\n",
       "      <td>-1.5</td>\n",
       "      <td>50.1</td>\n",
       "    </tr>\n",
       "    <tr>\n",
       "      <th>0</th>\n",
       "      <td>7</td>\n",
       "      <td>2</td>\n",
       "      <td>SocialNavigation</td>\n",
       "      <td>Negative</td>\n",
       "      <td>75.7</td>\n",
       "      <td>-43.6</td>\n",
       "    </tr>\n",
       "    <tr>\n",
       "      <th>2</th>\n",
       "      <td>16</td>\n",
       "      <td>3</td>\n",
       "      <td>SpaceNavigation</td>\n",
       "      <td>Negative</td>\n",
       "      <td>45.8</td>\n",
       "      <td>-23.3</td>\n",
       "    </tr>\n",
       "    <tr>\n",
       "      <th>1</th>\n",
       "      <td>19</td>\n",
       "      <td>4</td>\n",
       "      <td>SocialNavigation</td>\n",
       "      <td>Negative</td>\n",
       "      <td>-15.5</td>\n",
       "      <td>28.5</td>\n",
       "    </tr>\n",
       "    <tr>\n",
       "      <th>2</th>\n",
       "      <td>19</td>\n",
       "      <td>4</td>\n",
       "      <td>SocialNavigation</td>\n",
       "      <td>Negative</td>\n",
       "      <td>75.9</td>\n",
       "      <td>15.4</td>\n",
       "    </tr>\n",
       "    <tr>\n",
       "      <th>1</th>\n",
       "      <td>32</td>\n",
       "      <td>6</td>\n",
       "      <td>SocialNavigation</td>\n",
       "      <td>Negative</td>\n",
       "      <td>44.5</td>\n",
       "      <td>-25.3</td>\n",
       "    </tr>\n",
       "    <tr>\n",
       "      <th>3</th>\n",
       "      <td>33</td>\n",
       "      <td>6</td>\n",
       "      <td>SocialNavigation</td>\n",
       "      <td>Positive</td>\n",
       "      <td>46.1</td>\n",
       "      <td>28.3</td>\n",
       "    </tr>\n",
       "  </tbody>\n",
       "</table>\n",
       "</div>"
      ],
      "text/plain": [
       "  trial block              type     value  posx  posy\n",
       "0     1     1   SpaceNavigation  Negative  75.6 -43.6\n",
       "1     1     1   SpaceNavigation  Negative  76.0  15.1\n",
       "0     2     1   SpaceNavigation  Positive -15.1 -38.5\n",
       "1     2     1   SpaceNavigation  Positive  15.3  -6.6\n",
       "2     2     1   SpaceNavigation  Positive  45.8  28.5\n",
       "3     2     1   SpaceNavigation  Negative -14.1  28.6\n",
       "2     3     1   SpaceNavigation  Positive   0.2  51.7\n",
       "0    10     2  SocialNavigation  Positive -15.6 -43.4\n",
       "1    10     2  SocialNavigation  Positive   9.1  -1.2\n",
       "2    10     2  SocialNavigation  Positive  -1.5  50.1\n",
       "0     7     2  SocialNavigation  Negative  75.7 -43.6\n",
       "2    16     3   SpaceNavigation  Negative  45.8 -23.3\n",
       "1    19     4  SocialNavigation  Negative -15.5  28.5\n",
       "2    19     4  SocialNavigation  Negative  75.9  15.4\n",
       "1    32     6  SocialNavigation  Negative  44.5 -25.3\n",
       "3    33     6  SocialNavigation  Positive  46.1  28.3"
      ]
     },
     "execution_count": 82,
     "metadata": {},
     "output_type": "execute_result"
    }
   ],
   "source": [
    "dnew_df = new_df.drop_duplicates(subset=['type','posx','posy'])\n",
    "dnew_df"
   ]
  },
  {
   "cell_type": "code",
   "execution_count": 83,
   "metadata": {},
   "outputs": [
    {
     "data": {
      "text/plain": [
       "16"
      ]
     },
     "execution_count": 83,
     "metadata": {},
     "output_type": "execute_result"
    }
   ],
   "source": [
    "len(dnew_df)"
   ]
  },
  {
   "cell_type": "code",
   "execution_count": 84,
   "metadata": {},
   "outputs": [
    {
     "data": {
      "text/html": [
       "<div>\n",
       "<style scoped>\n",
       "    .dataframe tbody tr th:only-of-type {\n",
       "        vertical-align: middle;\n",
       "    }\n",
       "\n",
       "    .dataframe tbody tr th {\n",
       "        vertical-align: top;\n",
       "    }\n",
       "\n",
       "    .dataframe thead th {\n",
       "        text-align: right;\n",
       "    }\n",
       "</style>\n",
       "<table border=\"1\" class=\"dataframe\">\n",
       "  <thead>\n",
       "    <tr style=\"text-align: right;\">\n",
       "      <th></th>\n",
       "      <th>trial</th>\n",
       "      <th>block</th>\n",
       "      <th>type</th>\n",
       "      <th>value</th>\n",
       "      <th>posx</th>\n",
       "      <th>posy</th>\n",
       "    </tr>\n",
       "  </thead>\n",
       "  <tbody>\n",
       "    <tr>\n",
       "      <th>0</th>\n",
       "      <td>1</td>\n",
       "      <td>1</td>\n",
       "      <td>SpaceNavigation</td>\n",
       "      <td>Negative</td>\n",
       "      <td>75.6</td>\n",
       "      <td>-43.6</td>\n",
       "    </tr>\n",
       "    <tr>\n",
       "      <th>1</th>\n",
       "      <td>1</td>\n",
       "      <td>1</td>\n",
       "      <td>SpaceNavigation</td>\n",
       "      <td>Negative</td>\n",
       "      <td>76.0</td>\n",
       "      <td>15.1</td>\n",
       "    </tr>\n",
       "    <tr>\n",
       "      <th>0</th>\n",
       "      <td>2</td>\n",
       "      <td>1</td>\n",
       "      <td>SpaceNavigation</td>\n",
       "      <td>Positive</td>\n",
       "      <td>-15.1</td>\n",
       "      <td>-38.5</td>\n",
       "    </tr>\n",
       "    <tr>\n",
       "      <th>1</th>\n",
       "      <td>2</td>\n",
       "      <td>1</td>\n",
       "      <td>SpaceNavigation</td>\n",
       "      <td>Positive</td>\n",
       "      <td>15.3</td>\n",
       "      <td>-6.6</td>\n",
       "    </tr>\n",
       "    <tr>\n",
       "      <th>2</th>\n",
       "      <td>2</td>\n",
       "      <td>1</td>\n",
       "      <td>SpaceNavigation</td>\n",
       "      <td>Positive</td>\n",
       "      <td>45.8</td>\n",
       "      <td>28.5</td>\n",
       "    </tr>\n",
       "    <tr>\n",
       "      <th>3</th>\n",
       "      <td>2</td>\n",
       "      <td>1</td>\n",
       "      <td>SpaceNavigation</td>\n",
       "      <td>Negative</td>\n",
       "      <td>-14.1</td>\n",
       "      <td>28.6</td>\n",
       "    </tr>\n",
       "    <tr>\n",
       "      <th>2</th>\n",
       "      <td>3</td>\n",
       "      <td>1</td>\n",
       "      <td>SpaceNavigation</td>\n",
       "      <td>Positive</td>\n",
       "      <td>0.2</td>\n",
       "      <td>51.7</td>\n",
       "    </tr>\n",
       "    <tr>\n",
       "      <th>2</th>\n",
       "      <td>16</td>\n",
       "      <td>3</td>\n",
       "      <td>SpaceNavigation</td>\n",
       "      <td>Negative</td>\n",
       "      <td>45.8</td>\n",
       "      <td>-23.3</td>\n",
       "    </tr>\n",
       "  </tbody>\n",
       "</table>\n",
       "</div>"
      ],
      "text/plain": [
       "  trial block             type     value  posx  posy\n",
       "0     1     1  SpaceNavigation  Negative  75.6 -43.6\n",
       "1     1     1  SpaceNavigation  Negative  76.0  15.1\n",
       "0     2     1  SpaceNavigation  Positive -15.1 -38.5\n",
       "1     2     1  SpaceNavigation  Positive  15.3  -6.6\n",
       "2     2     1  SpaceNavigation  Positive  45.8  28.5\n",
       "3     2     1  SpaceNavigation  Negative -14.1  28.6\n",
       "2     3     1  SpaceNavigation  Positive   0.2  51.7\n",
       "2    16     3  SpaceNavigation  Negative  45.8 -23.3"
      ]
     },
     "execution_count": 84,
     "metadata": {},
     "output_type": "execute_result"
    }
   ],
   "source": [
    "dnew_df_case = dnew_df[dnew_df['type'] == 'SpaceNavigation']\n",
    "dnew_df_avatar = dnew_df[dnew_df['type'] == 'SocialNavigation']\n",
    "dnew_df_case"
   ]
  },
  {
   "cell_type": "code",
   "execution_count": 85,
   "metadata": {},
   "outputs": [
    {
     "name": "stderr",
     "output_type": "stream",
     "text": [
      "C:\\Users\\Jun\\AppData\\Local\\Temp\\ipykernel_32380\\1922527797.py:5: SettingWithCopyWarning:\n",
      "\n",
      "\n",
      "A value is trying to be set on a copy of a slice from a DataFrame.\n",
      "Try using .loc[row_indexer,col_indexer] = value instead\n",
      "\n",
      "See the caveats in the documentation: https://pandas.pydata.org/pandas-docs/stable/user_guide/indexing.html#returning-a-view-versus-a-copy\n",
      "\n"
     ]
    },
    {
     "data": {
      "application/vnd.plotly.v1+json": {
       "config": {
        "plotlyServerURL": "https://plot.ly"
       },
       "data": [
        {
         "hovertemplate": "(%{x:.2f}, %{y:.2f})",
         "legendgroup": "",
         "marker": {
          "color": "red",
          "size": 15,
          "symbol": "circle"
         },
         "mode": "markers",
         "name": "",
         "orientation": "v",
         "showlegend": false,
         "type": "scatter",
         "x": [
          -15.6,
          9.1,
          -1.5,
          75.7,
          -15.5,
          75.9,
          44.5,
          46.1
         ],
         "xaxis": "x",
         "y": [
          -43.4,
          -1.2,
          50.1,
          -43.6,
          28.5,
          15.4,
          -25.3,
          28.3
         ],
         "yaxis": "y"
        }
       ],
       "layout": {
        "font": {
         "color": "white",
         "size": 16,
         "weight": "bold"
        },
        "height": 720,
        "images": [
         {
          "layer": "below",
          "sizex": 1.2,
          "sizey": 6,
          "source": "bacgnd.png",
          "x": 0.45,
          "xanchor": "center",
          "xref": "paper",
          "y": 0.45,
          "yanchor": "middle",
          "yref": "paper"
         }
        ],
        "legend": {
         "tracegroupgap": 0
        },
        "margin": {
         "t": 60
        },
        "paper_bgcolor": "black",
        "plot_bgcolor": "black",
        "template": {
         "data": {
          "bar": [
           {
            "error_x": {
             "color": "#2a3f5f"
            },
            "error_y": {
             "color": "#2a3f5f"
            },
            "marker": {
             "line": {
              "color": "#E5ECF6",
              "width": 0.5
             },
             "pattern": {
              "fillmode": "overlay",
              "size": 10,
              "solidity": 0.2
             }
            },
            "type": "bar"
           }
          ],
          "barpolar": [
           {
            "marker": {
             "line": {
              "color": "#E5ECF6",
              "width": 0.5
             },
             "pattern": {
              "fillmode": "overlay",
              "size": 10,
              "solidity": 0.2
             }
            },
            "type": "barpolar"
           }
          ],
          "carpet": [
           {
            "aaxis": {
             "endlinecolor": "#2a3f5f",
             "gridcolor": "white",
             "linecolor": "white",
             "minorgridcolor": "white",
             "startlinecolor": "#2a3f5f"
            },
            "baxis": {
             "endlinecolor": "#2a3f5f",
             "gridcolor": "white",
             "linecolor": "white",
             "minorgridcolor": "white",
             "startlinecolor": "#2a3f5f"
            },
            "type": "carpet"
           }
          ],
          "choropleth": [
           {
            "colorbar": {
             "outlinewidth": 0,
             "ticks": ""
            },
            "type": "choropleth"
           }
          ],
          "contour": [
           {
            "colorbar": {
             "outlinewidth": 0,
             "ticks": ""
            },
            "colorscale": [
             [
              0,
              "#0d0887"
             ],
             [
              0.1111111111111111,
              "#46039f"
             ],
             [
              0.2222222222222222,
              "#7201a8"
             ],
             [
              0.3333333333333333,
              "#9c179e"
             ],
             [
              0.4444444444444444,
              "#bd3786"
             ],
             [
              0.5555555555555556,
              "#d8576b"
             ],
             [
              0.6666666666666666,
              "#ed7953"
             ],
             [
              0.7777777777777778,
              "#fb9f3a"
             ],
             [
              0.8888888888888888,
              "#fdca26"
             ],
             [
              1,
              "#f0f921"
             ]
            ],
            "type": "contour"
           }
          ],
          "contourcarpet": [
           {
            "colorbar": {
             "outlinewidth": 0,
             "ticks": ""
            },
            "type": "contourcarpet"
           }
          ],
          "heatmap": [
           {
            "colorbar": {
             "outlinewidth": 0,
             "ticks": ""
            },
            "colorscale": [
             [
              0,
              "#0d0887"
             ],
             [
              0.1111111111111111,
              "#46039f"
             ],
             [
              0.2222222222222222,
              "#7201a8"
             ],
             [
              0.3333333333333333,
              "#9c179e"
             ],
             [
              0.4444444444444444,
              "#bd3786"
             ],
             [
              0.5555555555555556,
              "#d8576b"
             ],
             [
              0.6666666666666666,
              "#ed7953"
             ],
             [
              0.7777777777777778,
              "#fb9f3a"
             ],
             [
              0.8888888888888888,
              "#fdca26"
             ],
             [
              1,
              "#f0f921"
             ]
            ],
            "type": "heatmap"
           }
          ],
          "heatmapgl": [
           {
            "colorbar": {
             "outlinewidth": 0,
             "ticks": ""
            },
            "colorscale": [
             [
              0,
              "#0d0887"
             ],
             [
              0.1111111111111111,
              "#46039f"
             ],
             [
              0.2222222222222222,
              "#7201a8"
             ],
             [
              0.3333333333333333,
              "#9c179e"
             ],
             [
              0.4444444444444444,
              "#bd3786"
             ],
             [
              0.5555555555555556,
              "#d8576b"
             ],
             [
              0.6666666666666666,
              "#ed7953"
             ],
             [
              0.7777777777777778,
              "#fb9f3a"
             ],
             [
              0.8888888888888888,
              "#fdca26"
             ],
             [
              1,
              "#f0f921"
             ]
            ],
            "type": "heatmapgl"
           }
          ],
          "histogram": [
           {
            "marker": {
             "pattern": {
              "fillmode": "overlay",
              "size": 10,
              "solidity": 0.2
             }
            },
            "type": "histogram"
           }
          ],
          "histogram2d": [
           {
            "colorbar": {
             "outlinewidth": 0,
             "ticks": ""
            },
            "colorscale": [
             [
              0,
              "#0d0887"
             ],
             [
              0.1111111111111111,
              "#46039f"
             ],
             [
              0.2222222222222222,
              "#7201a8"
             ],
             [
              0.3333333333333333,
              "#9c179e"
             ],
             [
              0.4444444444444444,
              "#bd3786"
             ],
             [
              0.5555555555555556,
              "#d8576b"
             ],
             [
              0.6666666666666666,
              "#ed7953"
             ],
             [
              0.7777777777777778,
              "#fb9f3a"
             ],
             [
              0.8888888888888888,
              "#fdca26"
             ],
             [
              1,
              "#f0f921"
             ]
            ],
            "type": "histogram2d"
           }
          ],
          "histogram2dcontour": [
           {
            "colorbar": {
             "outlinewidth": 0,
             "ticks": ""
            },
            "colorscale": [
             [
              0,
              "#0d0887"
             ],
             [
              0.1111111111111111,
              "#46039f"
             ],
             [
              0.2222222222222222,
              "#7201a8"
             ],
             [
              0.3333333333333333,
              "#9c179e"
             ],
             [
              0.4444444444444444,
              "#bd3786"
             ],
             [
              0.5555555555555556,
              "#d8576b"
             ],
             [
              0.6666666666666666,
              "#ed7953"
             ],
             [
              0.7777777777777778,
              "#fb9f3a"
             ],
             [
              0.8888888888888888,
              "#fdca26"
             ],
             [
              1,
              "#f0f921"
             ]
            ],
            "type": "histogram2dcontour"
           }
          ],
          "mesh3d": [
           {
            "colorbar": {
             "outlinewidth": 0,
             "ticks": ""
            },
            "type": "mesh3d"
           }
          ],
          "parcoords": [
           {
            "line": {
             "colorbar": {
              "outlinewidth": 0,
              "ticks": ""
             }
            },
            "type": "parcoords"
           }
          ],
          "pie": [
           {
            "automargin": true,
            "type": "pie"
           }
          ],
          "scatter": [
           {
            "fillpattern": {
             "fillmode": "overlay",
             "size": 10,
             "solidity": 0.2
            },
            "type": "scatter"
           }
          ],
          "scatter3d": [
           {
            "line": {
             "colorbar": {
              "outlinewidth": 0,
              "ticks": ""
             }
            },
            "marker": {
             "colorbar": {
              "outlinewidth": 0,
              "ticks": ""
             }
            },
            "type": "scatter3d"
           }
          ],
          "scattercarpet": [
           {
            "marker": {
             "colorbar": {
              "outlinewidth": 0,
              "ticks": ""
             }
            },
            "type": "scattercarpet"
           }
          ],
          "scattergeo": [
           {
            "marker": {
             "colorbar": {
              "outlinewidth": 0,
              "ticks": ""
             }
            },
            "type": "scattergeo"
           }
          ],
          "scattergl": [
           {
            "marker": {
             "colorbar": {
              "outlinewidth": 0,
              "ticks": ""
             }
            },
            "type": "scattergl"
           }
          ],
          "scattermapbox": [
           {
            "marker": {
             "colorbar": {
              "outlinewidth": 0,
              "ticks": ""
             }
            },
            "type": "scattermapbox"
           }
          ],
          "scatterpolar": [
           {
            "marker": {
             "colorbar": {
              "outlinewidth": 0,
              "ticks": ""
             }
            },
            "type": "scatterpolar"
           }
          ],
          "scatterpolargl": [
           {
            "marker": {
             "colorbar": {
              "outlinewidth": 0,
              "ticks": ""
             }
            },
            "type": "scatterpolargl"
           }
          ],
          "scatterternary": [
           {
            "marker": {
             "colorbar": {
              "outlinewidth": 0,
              "ticks": ""
             }
            },
            "type": "scatterternary"
           }
          ],
          "surface": [
           {
            "colorbar": {
             "outlinewidth": 0,
             "ticks": ""
            },
            "colorscale": [
             [
              0,
              "#0d0887"
             ],
             [
              0.1111111111111111,
              "#46039f"
             ],
             [
              0.2222222222222222,
              "#7201a8"
             ],
             [
              0.3333333333333333,
              "#9c179e"
             ],
             [
              0.4444444444444444,
              "#bd3786"
             ],
             [
              0.5555555555555556,
              "#d8576b"
             ],
             [
              0.6666666666666666,
              "#ed7953"
             ],
             [
              0.7777777777777778,
              "#fb9f3a"
             ],
             [
              0.8888888888888888,
              "#fdca26"
             ],
             [
              1,
              "#f0f921"
             ]
            ],
            "type": "surface"
           }
          ],
          "table": [
           {
            "cells": {
             "fill": {
              "color": "#EBF0F8"
             },
             "line": {
              "color": "white"
             }
            },
            "header": {
             "fill": {
              "color": "#C8D4E3"
             },
             "line": {
              "color": "white"
             }
            },
            "type": "table"
           }
          ]
         },
         "layout": {
          "annotationdefaults": {
           "arrowcolor": "#2a3f5f",
           "arrowhead": 0,
           "arrowwidth": 1
          },
          "autotypenumbers": "strict",
          "coloraxis": {
           "colorbar": {
            "outlinewidth": 0,
            "ticks": ""
           }
          },
          "colorscale": {
           "diverging": [
            [
             0,
             "#8e0152"
            ],
            [
             0.1,
             "#c51b7d"
            ],
            [
             0.2,
             "#de77ae"
            ],
            [
             0.3,
             "#f1b6da"
            ],
            [
             0.4,
             "#fde0ef"
            ],
            [
             0.5,
             "#f7f7f7"
            ],
            [
             0.6,
             "#e6f5d0"
            ],
            [
             0.7,
             "#b8e186"
            ],
            [
             0.8,
             "#7fbc41"
            ],
            [
             0.9,
             "#4d9221"
            ],
            [
             1,
             "#276419"
            ]
           ],
           "sequential": [
            [
             0,
             "#0d0887"
            ],
            [
             0.1111111111111111,
             "#46039f"
            ],
            [
             0.2222222222222222,
             "#7201a8"
            ],
            [
             0.3333333333333333,
             "#9c179e"
            ],
            [
             0.4444444444444444,
             "#bd3786"
            ],
            [
             0.5555555555555556,
             "#d8576b"
            ],
            [
             0.6666666666666666,
             "#ed7953"
            ],
            [
             0.7777777777777778,
             "#fb9f3a"
            ],
            [
             0.8888888888888888,
             "#fdca26"
            ],
            [
             1,
             "#f0f921"
            ]
           ],
           "sequentialminus": [
            [
             0,
             "#0d0887"
            ],
            [
             0.1111111111111111,
             "#46039f"
            ],
            [
             0.2222222222222222,
             "#7201a8"
            ],
            [
             0.3333333333333333,
             "#9c179e"
            ],
            [
             0.4444444444444444,
             "#bd3786"
            ],
            [
             0.5555555555555556,
             "#d8576b"
            ],
            [
             0.6666666666666666,
             "#ed7953"
            ],
            [
             0.7777777777777778,
             "#fb9f3a"
            ],
            [
             0.8888888888888888,
             "#fdca26"
            ],
            [
             1,
             "#f0f921"
            ]
           ]
          },
          "colorway": [
           "#636efa",
           "#EF553B",
           "#00cc96",
           "#ab63fa",
           "#FFA15A",
           "#19d3f3",
           "#FF6692",
           "#B6E880",
           "#FF97FF",
           "#FECB52"
          ],
          "font": {
           "color": "#2a3f5f"
          },
          "geo": {
           "bgcolor": "white",
           "lakecolor": "white",
           "landcolor": "#E5ECF6",
           "showlakes": true,
           "showland": true,
           "subunitcolor": "white"
          },
          "hoverlabel": {
           "align": "left"
          },
          "hovermode": "closest",
          "mapbox": {
           "style": "light"
          },
          "paper_bgcolor": "white",
          "plot_bgcolor": "#E5ECF6",
          "polar": {
           "angularaxis": {
            "gridcolor": "white",
            "linecolor": "white",
            "ticks": ""
           },
           "bgcolor": "#E5ECF6",
           "radialaxis": {
            "gridcolor": "white",
            "linecolor": "white",
            "ticks": ""
           }
          },
          "scene": {
           "xaxis": {
            "backgroundcolor": "#E5ECF6",
            "gridcolor": "white",
            "gridwidth": 2,
            "linecolor": "white",
            "showbackground": true,
            "ticks": "",
            "zerolinecolor": "white"
           },
           "yaxis": {
            "backgroundcolor": "#E5ECF6",
            "gridcolor": "white",
            "gridwidth": 2,
            "linecolor": "white",
            "showbackground": true,
            "ticks": "",
            "zerolinecolor": "white"
           },
           "zaxis": {
            "backgroundcolor": "#E5ECF6",
            "gridcolor": "white",
            "gridwidth": 2,
            "linecolor": "white",
            "showbackground": true,
            "ticks": "",
            "zerolinecolor": "white"
           }
          },
          "shapedefaults": {
           "line": {
            "color": "#2a3f5f"
           }
          },
          "ternary": {
           "aaxis": {
            "gridcolor": "white",
            "linecolor": "white",
            "ticks": ""
           },
           "baxis": {
            "gridcolor": "white",
            "linecolor": "white",
            "ticks": ""
           },
           "bgcolor": "#E5ECF6",
           "caxis": {
            "gridcolor": "white",
            "linecolor": "white",
            "ticks": ""
           }
          },
          "title": {
           "x": 0.05
          },
          "xaxis": {
           "automargin": true,
           "gridcolor": "white",
           "linecolor": "white",
           "ticks": "",
           "title": {
            "standoff": 15
           },
           "zerolinecolor": "white",
           "zerolinewidth": 2
          },
          "yaxis": {
           "automargin": true,
           "gridcolor": "white",
           "linecolor": "white",
           "ticks": "",
           "title": {
            "standoff": 15
           },
           "zerolinecolor": "white",
           "zerolinewidth": 2
          }
         }
        },
        "title": {
         "text": "Arrangement Task Day2",
         "x": 0.5,
         "xanchor": "center",
         "y": 0.92,
         "yanchor": "bottom"
        },
        "width": 672,
        "xaxis": {
         "anchor": "y",
         "domain": [
          0,
          1
         ],
         "showgrid": false,
         "title": {
          "text": "posx"
         }
        },
        "yaxis": {
         "anchor": "x",
         "domain": [
          0,
          1
         ],
         "showgrid": false,
         "title": {
          "text": "posy"
         }
        }
       }
      }
     },
     "metadata": {},
     "output_type": "display_data"
    }
   ],
   "source": [
    "import plotly.express as px\n",
    "import pandas as pd\n",
    "\n",
    "# 假设您有一个包含坐标的DataFrame\n",
    "dnew_df_avatar['Legend'] = 'Data Points'\n",
    "# 创建点阵图\n",
    "fig = px.scatter(dnew_df_avatar, x='posx', y='posy')\n",
    "\n",
    "# 添加标题\n",
    "fig.update_layout(\n",
    "    title='Arrangement Task Day2',\n",
    "    font=dict(color='white', size=16, weight='bold'),\n",
    "    title_x=0.5,  # 将标题的x位置设置在中间\n",
    "    title_y= 0.92,  # 将标题的y位置设置在图表的底部\n",
    "    title_xanchor='center',\n",
    "    title_yanchor='bottom'  \n",
    "        # 设置标题字体颜色、大小和粗细\n",
    "    )\n",
    "\n",
    "# 将点阵颜色变成红色\n",
    "fig.update_traces(marker=dict(color='red', size=15))\n",
    "\n",
    "# 显示坐标的x和y，保留两位小数\n",
    "fig.update_traces(hovertemplate='(%{x:.2f}, %{y:.2f})')\n",
    "\n",
    "# 背景颜色变成白色\n",
    "# fig.update_layout(plot_bgcolor='white')\n",
    "\n",
    "# 贴上一张图片\n",
    "fig.add_layout_image(\n",
    "    dict(\n",
    "        source='bacgnd.png',\n",
    "        xref='paper',\n",
    "        yref='paper',\n",
    "        x=0.45,\n",
    "        y=0.45,\n",
    "        sizex=1.2,\n",
    "        sizey=6,\n",
    "        xanchor='center',\n",
    "        yanchor='middle',\n",
    "        layer='below'\n",
    "    )\n",
    ")\n",
    "\n",
    "# 设置图表的宽度和高度（以像素为单位）\n",
    "fig.update_layout(\n",
    "    width=int(0.96*700), \n",
    "    height=int(1.2*600),\n",
    "    paper_bgcolor='black',  # 设置图表外围背景颜色\n",
    "    plot_bgcolor='black'    # 设置图表内部背景颜色\n",
    "    )\n",
    "\n",
    "fig.update_xaxes(showgrid=False)\n",
    "fig.update_yaxes(showgrid=False)\n",
    "\n",
    "# 显示图像\n",
    "fig.show()\n"
   ]
  }
 ],
 "metadata": {
  "kernelspec": {
   "display_name": "base",
   "language": "python",
   "name": "python3"
  },
  "language_info": {
   "codemirror_mode": {
    "name": "ipython",
    "version": 3
   },
   "file_extension": ".py",
   "mimetype": "text/x-python",
   "name": "python",
   "nbconvert_exporter": "python",
   "pygments_lexer": "ipython3",
   "version": "3.9.18"
  }
 },
 "nbformat": 4,
 "nbformat_minor": 2
}
